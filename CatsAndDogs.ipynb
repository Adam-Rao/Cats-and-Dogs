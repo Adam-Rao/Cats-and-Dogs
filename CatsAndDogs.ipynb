{
  "nbformat": 4,
  "nbformat_minor": 0,
  "metadata": {
    "colab": {
      "name": "CatsAndDogs.ipynb",
      "provenance": [],
      "mount_file_id": "1wpMhle1yD5S5WnuefL_OmAzuqvI-j-lL",
      "authorship_tag": "ABX9TyNQzKfwEBEu7IiY1kaePfVa",
      "include_colab_link": true
    },
    "kernelspec": {
      "name": "python3",
      "display_name": "Python 3"
    },
    "accelerator": "GPU"
  },
  "cells": [
    {
      "cell_type": "markdown",
      "metadata": {
        "id": "view-in-github",
        "colab_type": "text"
      },
      "source": [
        "<a href=\"https://colab.research.google.com/github/Adam-Rao/Cats-and-Dogs/blob/master/CatsAndDogs.ipynb\" target=\"_parent\"><img src=\"https://colab.research.google.com/assets/colab-badge.svg\" alt=\"Open In Colab\"/></a>"
      ]
    },
    {
      "cell_type": "code",
      "metadata": {
        "id": "bHqpQ6AO_Oud"
      },
      "source": [
        "#!unzip \"/content/drive/My Drive/dogs-vs-cats.zip\" -d \"/content/drive/My Drive/Cats VS Dogs Project\""
      ],
      "execution_count": null,
      "outputs": []
    },
    {
      "cell_type": "code",
      "metadata": {
        "id": "2J7xVi1VE8R-"
      },
      "source": [
        "#!unzip \"/content/drive/My Drive/Cats VS Dogs Project/test1.zip\" -d \"/content/drive/My Drive/Cats VS Dogs Project/test\""
      ],
      "execution_count": null,
      "outputs": []
    },
    {
      "cell_type": "code",
      "metadata": {
        "id": "534Sh35KE8qf"
      },
      "source": [
        "#!unzip \"/content/drive/My Drive/Cats VS Dogs Project/train.zip\" -d \"/content/drive/My Drive/Cats VS Dogs Project/train\""
      ],
      "execution_count": null,
      "outputs": []
    },
    {
      "cell_type": "code",
      "metadata": {
        "id": "O_iNUTZZXvG0"
      },
      "source": [
        "import datetime\n",
        "import _io\n",
        "import matplotlib.pyplot as plt\n",
        "import numpy as np\n",
        "import os\n",
        "from sklearn.model_selection import train_test_split\n",
        "from sklearn.utils import shuffle\n",
        "import tensorflow as tf\n",
        "from tensorflow.keras import Sequential\n",
        "from tensorflow.keras.layers import Dense\n",
        "import tensorflow_hub as hub\n",
        "from typing import List, Tuple\n",
        "from tqdm import tqdm"
      ],
      "execution_count": 12,
      "outputs": []
    },
    {
      "cell_type": "code",
      "metadata": {
        "id": "N5pqGASaCVuI"
      },
      "source": [
        "BATCH_SIZE = 32\n",
        "DATA_LIST_TYPE = List[Tuple[str, str]]\n",
        "IMG_SIZE = 224\n",
        "INPUT_SHAPE = [None, IMG_SIZE, IMG_SIZE, 3]\n",
        "FINAL_LAYER_ACTIVATION_FUNCTION = \"sigmoid\"\n",
        "OUTPUT_NODES = 2\n",
        "NUM_EPOCHS=100\n",
        "TRAIN_DATA_PATH = \"/content/drive/MyDrive/Cats VS Dogs Project/train/train\"\n",
        "TEST_DATA_PATH = \"/content/drive/MyDrive/Cats VS Dogs Project/test/test1\""
      ],
      "execution_count": 9,
      "outputs": []
    },
    {
      "cell_type": "code",
      "metadata": {
        "colab": {
          "base_uri": "https://localhost:8080/"
        },
        "id": "VYCygp5yHzxh",
        "outputId": "62c778e9-de49-47f3-f334-41eb6f8cd2c2"
      },
      "source": [
        "# Check how the files in our dataset are stored as\n",
        "some_list = []\n",
        "for root, dirs, files in tqdm(os.walk(TRAIN_DATA_PATH)):\n",
        "  for file in files:\n",
        "    if file.endswith('jpg'):\n",
        "      some_list.append(file)"
      ],
      "execution_count": 13,
      "outputs": [
        {
          "output_type": "stream",
          "text": [
            "1it [00:00,  3.58it/s]\n"
          ],
          "name": "stderr"
        }
      ]
    },
    {
      "cell_type": "code",
      "metadata": {
        "colab": {
          "base_uri": "https://localhost:8080/"
        },
        "id": "27tkkZo_IDLe",
        "outputId": "a1b50ee4-9ea9-48d1-81cf-f8c8748d741d"
      },
      "source": [
        "some_list[:5]\n",
        "\n",
        "some_list[1].startswith('cat')"
      ],
      "execution_count": 15,
      "outputs": [
        {
          "output_type": "execute_result",
          "data": {
            "text/plain": [
              "True"
            ]
          },
          "metadata": {
            "tags": []
          },
          "execution_count": 15
        }
      ]
    },
    {
      "cell_type": "code",
      "metadata": {
        "id": "nhtz3qfME-KB"
      },
      "source": [
        "def create_data_list(data_path: str) -> DATA_LIST_TYPE:\n",
        "  \"\"\"\n",
        "  data_path: path to folder containing desired files\n",
        "  label: string argument for the desired label\n",
        "\n",
        "  Creates and returns a list of tuples containing filepath and desired label\n",
        "  \"\"\"\n",
        "  #List that will store our files and their labels\n",
        "  dataset: DATA_LIST_TYPE = []\n",
        "  #Traverse through folder housing files\n",
        "  for root, dirs, files in tqdm(os.walk(data_path)):\n",
        "    for file in files:\n",
        "      #If file is jpeg\n",
        "      if file.endswith('jpg'):\n",
        "        #If file starts with cat, file label is cat\n",
        "        if file.startswith('cat'):\n",
        "          dataset.append((f\"{data_path}/{file}\", \"CAT\"))\n",
        "        #If file starts with dog, file label is dog\n",
        "        elif file.startswith('dog'):\n",
        "          dataset.append((f\"{data_path}/{file}\", \"DOG\"))\n",
        "  return dataset"
      ],
      "execution_count": 16,
      "outputs": []
    },
    {
      "cell_type": "code",
      "metadata": {
        "id": "Ck_nGaVuGT7v",
        "colab": {
          "base_uri": "https://localhost:8080/"
        },
        "outputId": "dfa9c527-c031-48f6-8aeb-7b713ac24d6f"
      },
      "source": [
        "general_data_list = create_data_list(TRAIN_DATA_PATH) + create_data_list(TEST_DATA_PATH)"
      ],
      "execution_count": 17,
      "outputs": [
        {
          "output_type": "stream",
          "text": [
            "1it [00:00,  3.52it/s]\n",
            "1it [00:00,  4.72it/s]\n"
          ],
          "name": "stderr"
        }
      ]
    },
    {
      "cell_type": "code",
      "metadata": {
        "id": "vi-7GBn2hGJ_"
      },
      "source": [
        "def shuffle_data_list(data_list: DATA_LIST_TYPE) -> DATA_LIST_TYPE:\n",
        "  return shuffle(data_list)"
      ],
      "execution_count": 20,
      "outputs": []
    },
    {
      "cell_type": "code",
      "metadata": {
        "id": "0Tf5LV-BISL6"
      },
      "source": [
        "shuffled_data_list = shuffle_data_list(general_data_list)"
      ],
      "execution_count": 21,
      "outputs": []
    },
    {
      "cell_type": "code",
      "metadata": {
        "id": "2W7EnOeJN6Wl"
      },
      "source": [
        "labels = [i[1] for i in shuffled_data_list]\n",
        "\n",
        "unique_labels = np.unique(labels)"
      ],
      "execution_count": 24,
      "outputs": []
    },
    {
      "cell_type": "code",
      "metadata": {
        "id": "DVL4MKyzOgB8"
      },
      "source": [
        "boolean_labels = [label == unique_labels for label in labels] # will form our y values"
      ],
      "execution_count": 25,
      "outputs": []
    },
    {
      "cell_type": "code",
      "metadata": {
        "id": "33ZzTJwBP6l-"
      },
      "source": [
        "def create_train_test_datasets(X, y, TEST_SIZE=0.2, RANDOM_STATE=42):\n",
        "  \"\"\"\n",
        "  X: Feature values\n",
        "  y: Label values\n",
        "  TEST_SIZE: Percentage of test dataset from original. Default is 20%\n",
        "  RANDOM_STATE: Random integer. Default is 42\n",
        "\n",
        "  Creates train and test datasets from X and y values.\n",
        "  Can also be used to create train and validation datasets\n",
        "  \"\"\"\n",
        "  X_train, X_test, y_train, y_test = train_test_split(\n",
        "      X, \n",
        "      y, \n",
        "      test_size=TEST_SIZE, \n",
        "      random_state=RANDOM_STATE\n",
        "    )\n",
        "  \n",
        "  return X_train, X_test, y_train, y_test"
      ],
      "execution_count": 26,
      "outputs": []
    },
    {
      "cell_type": "code",
      "metadata": {
        "id": "JgQdVFTfR5uq"
      },
      "source": [
        "def preprocess_image(file_path: str):\n",
        "  \"\"\"\n",
        "  file_path: File to image\n",
        "  Returns preprocessed image\n",
        "  \"\"\"\n",
        "\n",
        "  image = tf.io.read_file(file_path)\n",
        "  image = tf.io.decode_jpeg(image, channels=3)\n",
        "  image = tf.image.convert_image_dtype(image, tf.float32)\n",
        "  image = tf.image.resize(image, size=[IMG_SIZE, IMG_SIZE])\n",
        "  image = tf.reshape(image, [IMG_SIZE, IMG_SIZE, 3])\n",
        "\n",
        "  return image"
      ],
      "execution_count": 27,
      "outputs": []
    },
    {
      "cell_type": "code",
      "metadata": {
        "id": "ASRqP1TzUYkZ"
      },
      "source": [
        "def return_image_label(file_path: str, label: str):\n",
        "  \"\"\"\n",
        "  file_path: Path to image\n",
        "  label: Image label\n",
        "\n",
        "  returns preprocessed image and label\n",
        "  \"\"\"\n",
        "  image = preprocess_image(file_path)\n",
        "\n",
        "  return image, label"
      ],
      "execution_count": 28,
      "outputs": []
    },
    {
      "cell_type": "code",
      "metadata": {
        "id": "x1S0b8TZPtNV"
      },
      "source": [
        "def create_data_batches(\n",
        "    X,\n",
        "    y=None,\n",
        "    test_data=False,\n",
        "    valid_data=False\n",
        "  ):\n",
        "  \"\"\"\n",
        "  X: Feature values(Images)\n",
        "  y: Label values\n",
        "  test_data: Boolean value determining if to create data batches for test data\n",
        "  valid_data: Boolean value determining if to create data batches for validation data\n",
        "\n",
        "  Creates and returns data batches from X and/or y values\n",
        "  \"\"\"\n",
        "\n",
        "  if test_data:\n",
        "    print(\"Creating test data batches...\")\n",
        "    data = tf.data.Dataset.from_tensor_slices((tf.constant(X)))\n",
        "    data_batch = data.map(preprocess_image).batch(BATCH_SIZE)\n",
        "    return data_batch\n",
        "\n",
        "  elif valid_data:\n",
        "    print(\"Creating validation data batches...\")\n",
        "    data = tf.data.Dataset.from_tensor_slices(\n",
        "        (\n",
        "            tf.constant(X),\n",
        "            tf.constant(y)\n",
        "        )\n",
        "    )\n",
        "    data_batch = data.map(return_image_label).batch(BATCH_SIZE)\n",
        "    return data_batch\n",
        "  \n",
        "  else:\n",
        "    print(\"Creating training data batches...\")\n",
        "    data = tf.data.Dataset.from_tensor_slices(\n",
        "        (\n",
        "            tf.constant(X),\n",
        "            tf.constant(y)\n",
        "        )\n",
        "    )\n",
        "    data = data.shuffle(buffer_size=len(X))\n",
        "    data = data.map(return_image_label)\n",
        "    data_batch = data.batch(BATCH_SIZE)\n",
        "    return data_batch"
      ],
      "execution_count": 29,
      "outputs": []
    },
    {
      "cell_type": "code",
      "metadata": {
        "id": "b_8K3viISuLq"
      },
      "source": [
        "def get_prediction_label(prediction_probabilities):\n",
        "  \"\"\"\n",
        "  prediction_probabilities: Array of predictions from model\n",
        "\n",
        "  returns predicted label\n",
        "  \"\"\"\n",
        "\n",
        "  return unique_labels[np.argmax(prediction_probabilities)]"
      ],
      "execution_count": 30,
      "outputs": []
    },
    {
      "cell_type": "code",
      "metadata": {
        "id": "BupQzevyTQWt"
      },
      "source": [
        "def plot_image_prediction_true_value(prediction_probabilities, X, y, index):\n",
        "  \"\"\"\n",
        "  prediction_probabilities: Array of predictions from model\n",
        "  X: image to be plotted\n",
        "  y: true label\n",
        "  index: Position of image, prediction and true label you wish to show\n",
        "\n",
        "  plot actual image with the predicted value and true values as title to image plot\n",
        "  \"\"\"\n",
        "  image, true_label, predicted_probabilities = X[index], y[index], prediction_probabilities[index]\n",
        "  predicted_label = get_prediction_label(predicted_probabilities)\n",
        "\n",
        "  plt.imshow(image)\n",
        "  plt.yticks([])\n",
        "  plt.xticks([])\n",
        "  plt.title(\n",
        "      f\"Predicted Label: {predicted_label}  True Label: {true_label}\\n\" \n",
        "      f\"Probability image is predicted label: {np.argmax(predicted_probabilities) * 100:2.0f}%\")\n",
        "  "
      ],
      "execution_count": 31,
      "outputs": []
    },
    {
      "cell_type": "code",
      "metadata": {
        "id": "wEwi6gHsWjOU"
      },
      "source": [
        "def unbatchify(batched_dataset):\n",
        "  \"\"\"\n",
        "  returns list of images and lables from unbatched dataset\n",
        "  \"\"\"\n",
        "  images_ = []\n",
        "  labels_ = []\n",
        "\n",
        "  for image, label in batched_dataset.unbatch().as_numpy_iterator():\n",
        "    images_.append(image)\n",
        "    labels_.append(unique_labels[np.argmax(label)])\n",
        "\n",
        "  return images_, labels_"
      ],
      "execution_count": 32,
      "outputs": []
    },
    {
      "cell_type": "code",
      "metadata": {
        "id": "DgiN4qykXE7Q"
      },
      "source": [
        "def create_model():\n",
        "  \"\"\"\n",
        "  Creates and returns custom model: Model based on INCEPTION Architecture\n",
        "  \"\"\"\n",
        "  model = Sequential([\n",
        "    hub.KerasLayer(\"https://tfhub.dev/google/imagenet/inception_v1/classification/4\"),\n",
        "    Dense(\n",
        "      OUTPUT_NODES, \n",
        "      activation=FINAL_LAYER_ACTIVATION_FUNCTION)\n",
        "  ])\n",
        "\n",
        "  model.compile(\n",
        "      optimizer='adam',\n",
        "      loss=tf.keras.losses.BinaryCrossentropy(),\n",
        "      metrics=['accuracy']\n",
        "  )\n",
        "\n",
        "  model.build(INPUT_SHAPE)\n",
        "\n",
        "  model.summary()\n",
        "  \n",
        "  return model"
      ],
      "execution_count": 33,
      "outputs": []
    },
    {
      "cell_type": "code",
      "metadata": {
        "id": "whV-bV6ojG9D"
      },
      "source": [
        "early_stopping = tf.keras.callbacks.EarlyStopping(\n",
        "    monitor=\"val_accuracy\",\n",
        "    patience=3\n",
        "  )"
      ],
      "execution_count": 34,
      "outputs": []
    },
    {
      "cell_type": "code",
      "metadata": {
        "id": "2PB_UjLSjjGa"
      },
      "source": [
        "def save_model(model, suffix=None):\n",
        "  modeldir = os.path.join(\n",
        "      'drive/My Drive/Cats VS Dogs Project/models',\n",
        "      datetime.datetime.now().strftime(\"%Y%m%d-%H%M%s\")\n",
        "  )\n",
        "  model_path = modeldir + \"-\" + suffix + \".h5\"\n",
        "  print(f\"Saving model to: {model_path}...\")\n",
        "  model.save(model_path)\n",
        "  return model_path"
      ],
      "execution_count": 36,
      "outputs": []
    },
    {
      "cell_type": "code",
      "metadata": {
        "id": "Y4qISaDXoCe9"
      },
      "source": [
        "def load_model(model_path):\n",
        "  print(f\"Loading saved model from: {model_path}\")\n",
        "  model = tf.keras.models.load_model(\n",
        "      model_path,\n",
        "      custom_objects={\"KerasLayer\":hub.KerasLayer}\n",
        "  )\n",
        "  return model"
      ],
      "execution_count": 37,
      "outputs": []
    },
    {
      "cell_type": "code",
      "metadata": {
        "id": "PW70eIUoyxhC",
        "colab": {
          "base_uri": "https://localhost:8080/"
        },
        "outputId": "dc0f6560-d315-4156-ba17-e3bb62c0e5d7"
      },
      "source": [
        "X = [i[0] for i in shuffled_data_list]\n",
        "\n",
        "trial_X = X[:1000]\n",
        "trial_y = boolean_labels[:1000]\n",
        "\n",
        "\n",
        "trial_X_train, trial_X_valid, trial_y_train, trial_y_valid = create_train_test_datasets(trial_X, trial_y)\n",
        "\n",
        "trial_train_data = create_data_batches(\n",
        "    trial_X_train,\n",
        "    trial_y_train\n",
        ")\n",
        "\n",
        "trial_valid_data = create_data_batches(\n",
        "    trial_X_valid,\n",
        "    trial_y_valid,\n",
        "    valid_data=True\n",
        ")"
      ],
      "execution_count": 38,
      "outputs": [
        {
          "output_type": "stream",
          "text": [
            "Creating training data batches...\n",
            "Creating validation data batches...\n"
          ],
          "name": "stdout"
        }
      ]
    },
    {
      "cell_type": "code",
      "metadata": {
        "colab": {
          "base_uri": "https://localhost:8080/"
        },
        "id": "hPIlLxRaLbBD",
        "outputId": "f1574413-9d03-4d58-b670-ba272ecbf5cb"
      },
      "source": [
        "thousand_pictures_model = create_model()"
      ],
      "execution_count": 41,
      "outputs": [
        {
          "output_type": "stream",
          "text": [
            "Model: \"sequential\"\n",
            "_________________________________________________________________\n",
            "Layer (type)                 Output Shape              Param #   \n",
            "=================================================================\n",
            "keras_layer (KerasLayer)     (None, 1001)              6633209   \n",
            "_________________________________________________________________\n",
            "dense (Dense)                (None, 2)                 2004      \n",
            "=================================================================\n",
            "Total params: 6,635,213\n",
            "Trainable params: 2,004\n",
            "Non-trainable params: 6,633,209\n",
            "_________________________________________________________________\n"
          ],
          "name": "stdout"
        }
      ]
    },
    {
      "cell_type": "code",
      "metadata": {
        "id": "i816IXYf0xjp",
        "colab": {
          "base_uri": "https://localhost:8080/"
        },
        "outputId": "ab47728b-80ee-4adb-a8d6-e52c755c2a2d"
      },
      "source": [
        "thousand_pictures_model.fit(\n",
        "    x=trial_train_data,\n",
        "    epochs=NUM_EPOCHS,\n",
        "    validation_data=trial_valid_data,\n",
        "    validation_freq=1,\n",
        "    callbacks=[early_stopping]\n",
        ")"
      ],
      "execution_count": 42,
      "outputs": [
        {
          "output_type": "stream",
          "text": [
            "Epoch 1/100\n",
            "25/25 [==============================] - 4s 152ms/step - loss: 0.5646 - accuracy: 0.7437 - val_loss: 0.1345 - val_accuracy: 0.9800\n",
            "Epoch 2/100\n",
            "25/25 [==============================] - 3s 122ms/step - loss: 0.1191 - accuracy: 0.9675 - val_loss: 0.0703 - val_accuracy: 0.9800\n",
            "Epoch 3/100\n",
            "25/25 [==============================] - 3s 119ms/step - loss: 0.0784 - accuracy: 0.9787 - val_loss: 0.0558 - val_accuracy: 0.9850\n",
            "Epoch 4/100\n",
            "25/25 [==============================] - 3s 120ms/step - loss: 0.0618 - accuracy: 0.9812 - val_loss: 0.0494 - val_accuracy: 0.9900\n",
            "Epoch 5/100\n",
            "25/25 [==============================] - 3s 119ms/step - loss: 0.0509 - accuracy: 0.9837 - val_loss: 0.0454 - val_accuracy: 0.9900\n",
            "Epoch 6/100\n",
            "25/25 [==============================] - 3s 121ms/step - loss: 0.0435 - accuracy: 0.9887 - val_loss: 0.0433 - val_accuracy: 0.9900\n",
            "Epoch 7/100\n",
            "25/25 [==============================] - 3s 121ms/step - loss: 0.0368 - accuracy: 0.9925 - val_loss: 0.0400 - val_accuracy: 0.9900\n"
          ],
          "name": "stdout"
        },
        {
          "output_type": "execute_result",
          "data": {
            "text/plain": [
              "<tensorflow.python.keras.callbacks.History at 0x7f547df4a908>"
            ]
          },
          "metadata": {
            "tags": []
          },
          "execution_count": 42
        }
      ]
    },
    {
      "cell_type": "code",
      "metadata": {
        "id": "-y7KFA3FjAci"
      },
      "source": [
        "trial_predictions = thousand_pictures_model.predict(trial_valid_data)"
      ],
      "execution_count": 43,
      "outputs": []
    },
    {
      "cell_type": "code",
      "metadata": {
        "id": "WGJBq4Jckjl8"
      },
      "source": [
        "trial_valid_images, trial_valid_labels = unbatchify(trial_valid_data)"
      ],
      "execution_count": 44,
      "outputs": []
    },
    {
      "cell_type": "code",
      "metadata": {
        "id": "daAsaJwKkkAM",
        "colab": {
          "base_uri": "https://localhost:8080/",
          "height": 283
        },
        "outputId": "6c51c38b-8d9d-41d5-e2d7-e47fd93d7088"
      },
      "source": [
        "plot_image_prediction_true_value(trial_predictions, trial_valid_images, trial_valid_labels, 43)"
      ],
      "execution_count": 54,
      "outputs": [
        {
          "output_type": "display_data",
          "data": {
            "image/png": "[encoded data removed]",
            "text/plain": [
              "<Figure size 432x288 with 1 Axes>"
            ]
          },
          "metadata": {
            "tags": []
          }
        }
      ]
    },
    {
      "cell_type": "code",
      "metadata": {
        "id": "oNFEhFRqnpXS",
        "colab": {
          "base_uri": "https://localhost:8080/",
          "height": 53
        },
        "outputId": "c7e19766-a312-4718-995a-462de5ab1249"
      },
      "source": [
        "save_model(model, \"1000-image-Inception-Adam-Model\")"
      ],
      "execution_count": null,
      "outputs": [
        {
          "output_type": "stream",
          "text": [
            "Saving model to: drive/My Drive/Cats and Dogs Project/models/20201024-17211603560102-1000-image-Inception-Adam-Model.h5...\n"
          ],
          "name": "stdout"
        },
        {
          "output_type": "execute_result",
          "data": {
            "application/vnd.google.colaboratory.intrinsic+json": {
              "type": "string"
            },
            "text/plain": [
              "'drive/My Drive/Cats and Dogs Project/models/20201024-17211603560102-1000-image-Inception-Adam-Model.h5'"
            ]
          },
          "metadata": {
            "tags": []
          },
          "execution_count": 74
        }
      ]
    },
    {
      "cell_type": "markdown",
      "metadata": {
        "id": "lT58JMgcoaxm"
      },
      "source": [
        "# Training our model using full train and test data"
      ]
    },
    {
      "cell_type": "code",
      "metadata": {
        "id": "MqGd8AFaoo88"
      },
      "source": [
        "train_X, test_X, train_y, _ = create_train_test_datasets(\n",
        "    X,\n",
        "    boolean_labels\n",
        ")"
      ],
      "execution_count": null,
      "outputs": []
    },
    {
      "cell_type": "code",
      "metadata": {
        "id": "83XfLX7CpIqV",
        "colab": {
          "base_uri": "https://localhost:8080/",
          "height": 52
        },
        "outputId": "7f3b3085-0cee-4add-df42-8f76c69d75ce"
      },
      "source": [
        "train_data = create_data_batches(\n",
        "    train_X,\n",
        "    train_y\n",
        ")\n",
        "\n",
        "test_data = create_data_batches(\n",
        "    test_X,\n",
        "    test_data=True\n",
        ")"
      ],
      "execution_count": null,
      "outputs": [
        {
          "output_type": "stream",
          "text": [
            "Creating training data batches...\n",
            "Creating test data batches...\n"
          ],
          "name": "stdout"
        }
      ]
    },
    {
      "cell_type": "code",
      "metadata": {
        "id": "VE2rpERtpaqL",
        "colab": {
          "base_uri": "https://localhost:8080/",
          "height": 225
        },
        "outputId": "fc774f3d-7e09-4d1c-f5b9-f01abdb5c7bb"
      },
      "source": [
        "full_model = create_model()"
      ],
      "execution_count": null,
      "outputs": [
        {
          "output_type": "stream",
          "text": [
            "Model: \"sequential_6\"\n",
            "_________________________________________________________________\n",
            "Layer (type)                 Output Shape              Param #   \n",
            "=================================================================\n",
            "keras_layer_6 (KerasLayer)   (None, 1001)              6633209   \n",
            "_________________________________________________________________\n",
            "dense_6 (Dense)              (None, 2)                 2004      \n",
            "=================================================================\n",
            "Total params: 6,635,213\n",
            "Trainable params: 2,004\n",
            "Non-trainable params: 6,633,209\n",
            "_________________________________________________________________\n"
          ],
          "name": "stdout"
        }
      ]
    },
    {
      "cell_type": "code",
      "metadata": {
        "id": "xtxTB_PTpfdd",
        "colab": {
          "base_uri": "https://localhost:8080/",
          "height": 608
        },
        "outputId": "9adc4820-d521-4264-8087-c6a64385563f"
      },
      "source": [
        "full_model.fit(\n",
        "    x=train_data,\n",
        "    epochs=NUM_EPOCHS,\n",
        "    callbacks=[early_stopping]\n",
        ")"
      ],
      "execution_count": null,
      "outputs": [
        {
          "output_type": "stream",
          "text": [
            "Epoch 1/100\n",
            " 12/625 [..............................] - ETA: 58s - loss: 0.5393 - accuracy: 0.7656"
          ],
          "name": "stdout"
        },
        {
          "output_type": "error",
          "ename": "InvalidArgumentError",
          "evalue": "ignored",
          "traceback": [
            "\u001b[0;31m---------------------------------------------------------------------------\u001b[0m",
            "\u001b[0;31mInvalidArgumentError\u001b[0m                      Traceback (most recent call last)",
            "\u001b[0;32m<ipython-input-198-74f776cf5237>\u001b[0m in \u001b[0;36m<module>\u001b[0;34m()\u001b[0m\n\u001b[1;32m      2\u001b[0m     \u001b[0mx\u001b[0m\u001b[0;34m=\u001b[0m\u001b[0mtrain_data\u001b[0m\u001b[0;34m,\u001b[0m\u001b[0;34m\u001b[0m\u001b[0;34m\u001b[0m\u001b[0m\n\u001b[1;32m      3\u001b[0m     \u001b[0mepochs\u001b[0m\u001b[0;34m=\u001b[0m\u001b[0mNUM_EPOCHS\u001b[0m\u001b[0;34m,\u001b[0m\u001b[0;34m\u001b[0m\u001b[0;34m\u001b[0m\u001b[0m\n\u001b[0;32m----> 4\u001b[0;31m     \u001b[0mcallbacks\u001b[0m\u001b[0;34m=\u001b[0m\u001b[0;34m[\u001b[0m\u001b[0mearly_stopping\u001b[0m\u001b[0;34m]\u001b[0m\u001b[0;34m\u001b[0m\u001b[0;34m\u001b[0m\u001b[0m\n\u001b[0m\u001b[1;32m      5\u001b[0m )\n",
            "\u001b[0;32m/usr/local/lib/python3.6/dist-packages/tensorflow/python/keras/engine/training.py\u001b[0m in \u001b[0;36m_method_wrapper\u001b[0;34m(self, *args, **kwargs)\u001b[0m\n\u001b[1;32m    106\u001b[0m   \u001b[0;32mdef\u001b[0m \u001b[0m_method_wrapper\u001b[0m\u001b[0;34m(\u001b[0m\u001b[0mself\u001b[0m\u001b[0;34m,\u001b[0m \u001b[0;34m*\u001b[0m\u001b[0margs\u001b[0m\u001b[0;34m,\u001b[0m \u001b[0;34m**\u001b[0m\u001b[0mkwargs\u001b[0m\u001b[0;34m)\u001b[0m\u001b[0;34m:\u001b[0m\u001b[0;34m\u001b[0m\u001b[0;34m\u001b[0m\u001b[0m\n\u001b[1;32m    107\u001b[0m     \u001b[0;32mif\u001b[0m \u001b[0;32mnot\u001b[0m \u001b[0mself\u001b[0m\u001b[0;34m.\u001b[0m\u001b[0m_in_multi_worker_mode\u001b[0m\u001b[0;34m(\u001b[0m\u001b[0;34m)\u001b[0m\u001b[0;34m:\u001b[0m  \u001b[0;31m# pylint: disable=protected-access\u001b[0m\u001b[0;34m\u001b[0m\u001b[0;34m\u001b[0m\u001b[0m\n\u001b[0;32m--> 108\u001b[0;31m       \u001b[0;32mreturn\u001b[0m \u001b[0mmethod\u001b[0m\u001b[0;34m(\u001b[0m\u001b[0mself\u001b[0m\u001b[0;34m,\u001b[0m \u001b[0;34m*\u001b[0m\u001b[0margs\u001b[0m\u001b[0;34m,\u001b[0m \u001b[0;34m**\u001b[0m\u001b[0mkwargs\u001b[0m\u001b[0;34m)\u001b[0m\u001b[0;34m\u001b[0m\u001b[0;34m\u001b[0m\u001b[0m\n\u001b[0m\u001b[1;32m    109\u001b[0m \u001b[0;34m\u001b[0m\u001b[0m\n\u001b[1;32m    110\u001b[0m     \u001b[0;31m# Running inside `run_distribute_coordinator` already.\u001b[0m\u001b[0;34m\u001b[0m\u001b[0;34m\u001b[0m\u001b[0;34m\u001b[0m\u001b[0m\n",
            "\u001b[0;32m/usr/local/lib/python3.6/dist-packages/tensorflow/python/keras/engine/training.py\u001b[0m in \u001b[0;36mfit\u001b[0;34m(self, x, y, batch_size, epochs, verbose, callbacks, validation_split, validation_data, shuffle, class_weight, sample_weight, initial_epoch, steps_per_epoch, validation_steps, validation_batch_size, validation_freq, max_queue_size, workers, use_multiprocessing)\u001b[0m\n\u001b[1;32m   1096\u001b[0m                 batch_size=batch_size):\n\u001b[1;32m   1097\u001b[0m               \u001b[0mcallbacks\u001b[0m\u001b[0;34m.\u001b[0m\u001b[0mon_train_batch_begin\u001b[0m\u001b[0;34m(\u001b[0m\u001b[0mstep\u001b[0m\u001b[0;34m)\u001b[0m\u001b[0;34m\u001b[0m\u001b[0;34m\u001b[0m\u001b[0m\n\u001b[0;32m-> 1098\u001b[0;31m               \u001b[0mtmp_logs\u001b[0m \u001b[0;34m=\u001b[0m \u001b[0mtrain_function\u001b[0m\u001b[0;34m(\u001b[0m\u001b[0miterator\u001b[0m\u001b[0;34m)\u001b[0m\u001b[0;34m\u001b[0m\u001b[0;34m\u001b[0m\u001b[0m\n\u001b[0m\u001b[1;32m   1099\u001b[0m               \u001b[0;32mif\u001b[0m \u001b[0mdata_handler\u001b[0m\u001b[0;34m.\u001b[0m\u001b[0mshould_sync\u001b[0m\u001b[0;34m:\u001b[0m\u001b[0;34m\u001b[0m\u001b[0;34m\u001b[0m\u001b[0m\n\u001b[1;32m   1100\u001b[0m                 \u001b[0mcontext\u001b[0m\u001b[0;34m.\u001b[0m\u001b[0masync_wait\u001b[0m\u001b[0;34m(\u001b[0m\u001b[0;34m)\u001b[0m\u001b[0;34m\u001b[0m\u001b[0;34m\u001b[0m\u001b[0m\n",
            "\u001b[0;32m/usr/local/lib/python3.6/dist-packages/tensorflow/python/eager/def_function.py\u001b[0m in \u001b[0;36m__call__\u001b[0;34m(self, *args, **kwds)\u001b[0m\n\u001b[1;32m    778\u001b[0m       \u001b[0;32melse\u001b[0m\u001b[0;34m:\u001b[0m\u001b[0;34m\u001b[0m\u001b[0;34m\u001b[0m\u001b[0m\n\u001b[1;32m    779\u001b[0m         \u001b[0mcompiler\u001b[0m \u001b[0;34m=\u001b[0m \u001b[0;34m\"nonXla\"\u001b[0m\u001b[0;34m\u001b[0m\u001b[0;34m\u001b[0m\u001b[0m\n\u001b[0;32m--> 780\u001b[0;31m         \u001b[0mresult\u001b[0m \u001b[0;34m=\u001b[0m \u001b[0mself\u001b[0m\u001b[0;34m.\u001b[0m\u001b[0m_call\u001b[0m\u001b[0;34m(\u001b[0m\u001b[0;34m*\u001b[0m\u001b[0margs\u001b[0m\u001b[0;34m,\u001b[0m \u001b[0;34m**\u001b[0m\u001b[0mkwds\u001b[0m\u001b[0;34m)\u001b[0m\u001b[0;34m\u001b[0m\u001b[0;34m\u001b[0m\u001b[0m\n\u001b[0m\u001b[1;32m    781\u001b[0m \u001b[0;34m\u001b[0m\u001b[0m\n\u001b[1;32m    782\u001b[0m       \u001b[0mnew_tracing_count\u001b[0m \u001b[0;34m=\u001b[0m \u001b[0mself\u001b[0m\u001b[0;34m.\u001b[0m\u001b[0m_get_tracing_count\u001b[0m\u001b[0;34m(\u001b[0m\u001b[0;34m)\u001b[0m\u001b[0;34m\u001b[0m\u001b[0;34m\u001b[0m\u001b[0m\n",
            "\u001b[0;32m/usr/local/lib/python3.6/dist-packages/tensorflow/python/eager/def_function.py\u001b[0m in \u001b[0;36m_call\u001b[0;34m(self, *args, **kwds)\u001b[0m\n\u001b[1;32m    805\u001b[0m       \u001b[0;31m# In this case we have created variables on the first call, so we run the\u001b[0m\u001b[0;34m\u001b[0m\u001b[0;34m\u001b[0m\u001b[0;34m\u001b[0m\u001b[0m\n\u001b[1;32m    806\u001b[0m       \u001b[0;31m# defunned version which is guaranteed to never create variables.\u001b[0m\u001b[0;34m\u001b[0m\u001b[0;34m\u001b[0m\u001b[0;34m\u001b[0m\u001b[0m\n\u001b[0;32m--> 807\u001b[0;31m       \u001b[0;32mreturn\u001b[0m \u001b[0mself\u001b[0m\u001b[0;34m.\u001b[0m\u001b[0m_stateless_fn\u001b[0m\u001b[0;34m(\u001b[0m\u001b[0;34m*\u001b[0m\u001b[0margs\u001b[0m\u001b[0;34m,\u001b[0m \u001b[0;34m**\u001b[0m\u001b[0mkwds\u001b[0m\u001b[0;34m)\u001b[0m  \u001b[0;31m# pylint: disable=not-callable\u001b[0m\u001b[0;34m\u001b[0m\u001b[0;34m\u001b[0m\u001b[0m\n\u001b[0m\u001b[1;32m    808\u001b[0m     \u001b[0;32melif\u001b[0m \u001b[0mself\u001b[0m\u001b[0;34m.\u001b[0m\u001b[0m_stateful_fn\u001b[0m \u001b[0;32mis\u001b[0m \u001b[0;32mnot\u001b[0m \u001b[0;32mNone\u001b[0m\u001b[0;34m:\u001b[0m\u001b[0;34m\u001b[0m\u001b[0;34m\u001b[0m\u001b[0m\n\u001b[1;32m    809\u001b[0m       \u001b[0;31m# Release the lock early so that multiple threads can perform the call\u001b[0m\u001b[0;34m\u001b[0m\u001b[0;34m\u001b[0m\u001b[0;34m\u001b[0m\u001b[0m\n",
            "\u001b[0;32m/usr/local/lib/python3.6/dist-packages/tensorflow/python/eager/function.py\u001b[0m in \u001b[0;36m__call__\u001b[0;34m(self, *args, **kwargs)\u001b[0m\n\u001b[1;32m   2827\u001b[0m     \u001b[0;32mwith\u001b[0m \u001b[0mself\u001b[0m\u001b[0;34m.\u001b[0m\u001b[0m_lock\u001b[0m\u001b[0;34m:\u001b[0m\u001b[0;34m\u001b[0m\u001b[0;34m\u001b[0m\u001b[0m\n\u001b[1;32m   2828\u001b[0m       \u001b[0mgraph_function\u001b[0m\u001b[0;34m,\u001b[0m \u001b[0margs\u001b[0m\u001b[0;34m,\u001b[0m \u001b[0mkwargs\u001b[0m \u001b[0;34m=\u001b[0m \u001b[0mself\u001b[0m\u001b[0;34m.\u001b[0m\u001b[0m_maybe_define_function\u001b[0m\u001b[0;34m(\u001b[0m\u001b[0margs\u001b[0m\u001b[0;34m,\u001b[0m \u001b[0mkwargs\u001b[0m\u001b[0;34m)\u001b[0m\u001b[0;34m\u001b[0m\u001b[0;34m\u001b[0m\u001b[0m\n\u001b[0;32m-> 2829\u001b[0;31m     \u001b[0;32mreturn\u001b[0m \u001b[0mgraph_function\u001b[0m\u001b[0;34m.\u001b[0m\u001b[0m_filtered_call\u001b[0m\u001b[0;34m(\u001b[0m\u001b[0margs\u001b[0m\u001b[0;34m,\u001b[0m \u001b[0mkwargs\u001b[0m\u001b[0;34m)\u001b[0m  \u001b[0;31m# pylint: disable=protected-access\u001b[0m\u001b[0;34m\u001b[0m\u001b[0;34m\u001b[0m\u001b[0m\n\u001b[0m\u001b[1;32m   2830\u001b[0m \u001b[0;34m\u001b[0m\u001b[0m\n\u001b[1;32m   2831\u001b[0m   \u001b[0;34m@\u001b[0m\u001b[0mproperty\u001b[0m\u001b[0;34m\u001b[0m\u001b[0;34m\u001b[0m\u001b[0m\n",
            "\u001b[0;32m/usr/local/lib/python3.6/dist-packages/tensorflow/python/eager/function.py\u001b[0m in \u001b[0;36m_filtered_call\u001b[0;34m(self, args, kwargs, cancellation_manager)\u001b[0m\n\u001b[1;32m   1846\u001b[0m                            resource_variable_ops.BaseResourceVariable))],\n\u001b[1;32m   1847\u001b[0m         \u001b[0mcaptured_inputs\u001b[0m\u001b[0;34m=\u001b[0m\u001b[0mself\u001b[0m\u001b[0;34m.\u001b[0m\u001b[0mcaptured_inputs\u001b[0m\u001b[0;34m,\u001b[0m\u001b[0;34m\u001b[0m\u001b[0;34m\u001b[0m\u001b[0m\n\u001b[0;32m-> 1848\u001b[0;31m         cancellation_manager=cancellation_manager)\n\u001b[0m\u001b[1;32m   1849\u001b[0m \u001b[0;34m\u001b[0m\u001b[0m\n\u001b[1;32m   1850\u001b[0m   \u001b[0;32mdef\u001b[0m \u001b[0m_call_flat\u001b[0m\u001b[0;34m(\u001b[0m\u001b[0mself\u001b[0m\u001b[0;34m,\u001b[0m \u001b[0margs\u001b[0m\u001b[0;34m,\u001b[0m \u001b[0mcaptured_inputs\u001b[0m\u001b[0;34m,\u001b[0m \u001b[0mcancellation_manager\u001b[0m\u001b[0;34m=\u001b[0m\u001b[0;32mNone\u001b[0m\u001b[0;34m)\u001b[0m\u001b[0;34m:\u001b[0m\u001b[0;34m\u001b[0m\u001b[0;34m\u001b[0m\u001b[0m\n",
            "\u001b[0;32m/usr/local/lib/python3.6/dist-packages/tensorflow/python/eager/function.py\u001b[0m in \u001b[0;36m_call_flat\u001b[0;34m(self, args, captured_inputs, cancellation_manager)\u001b[0m\n\u001b[1;32m   1922\u001b[0m       \u001b[0;31m# No tape is watching; skip to running the function.\u001b[0m\u001b[0;34m\u001b[0m\u001b[0;34m\u001b[0m\u001b[0;34m\u001b[0m\u001b[0m\n\u001b[1;32m   1923\u001b[0m       return self._build_call_outputs(self._inference_function.call(\n\u001b[0;32m-> 1924\u001b[0;31m           ctx, args, cancellation_manager=cancellation_manager))\n\u001b[0m\u001b[1;32m   1925\u001b[0m     forward_backward = self._select_forward_and_backward_functions(\n\u001b[1;32m   1926\u001b[0m         \u001b[0margs\u001b[0m\u001b[0;34m,\u001b[0m\u001b[0;34m\u001b[0m\u001b[0;34m\u001b[0m\u001b[0m\n",
            "\u001b[0;32m/usr/local/lib/python3.6/dist-packages/tensorflow/python/eager/function.py\u001b[0m in \u001b[0;36mcall\u001b[0;34m(self, ctx, args, cancellation_manager)\u001b[0m\n\u001b[1;32m    548\u001b[0m               \u001b[0minputs\u001b[0m\u001b[0;34m=\u001b[0m\u001b[0margs\u001b[0m\u001b[0;34m,\u001b[0m\u001b[0;34m\u001b[0m\u001b[0;34m\u001b[0m\u001b[0m\n\u001b[1;32m    549\u001b[0m               \u001b[0mattrs\u001b[0m\u001b[0;34m=\u001b[0m\u001b[0mattrs\u001b[0m\u001b[0;34m,\u001b[0m\u001b[0;34m\u001b[0m\u001b[0;34m\u001b[0m\u001b[0m\n\u001b[0;32m--> 550\u001b[0;31m               ctx=ctx)\n\u001b[0m\u001b[1;32m    551\u001b[0m         \u001b[0;32melse\u001b[0m\u001b[0;34m:\u001b[0m\u001b[0;34m\u001b[0m\u001b[0;34m\u001b[0m\u001b[0m\n\u001b[1;32m    552\u001b[0m           outputs = execute.execute_with_cancellation(\n",
            "\u001b[0;32m/usr/local/lib/python3.6/dist-packages/tensorflow/python/eager/execute.py\u001b[0m in \u001b[0;36mquick_execute\u001b[0;34m(op_name, num_outputs, inputs, attrs, ctx, name)\u001b[0m\n\u001b[1;32m     58\u001b[0m     \u001b[0mctx\u001b[0m\u001b[0;34m.\u001b[0m\u001b[0mensure_initialized\u001b[0m\u001b[0;34m(\u001b[0m\u001b[0;34m)\u001b[0m\u001b[0;34m\u001b[0m\u001b[0;34m\u001b[0m\u001b[0m\n\u001b[1;32m     59\u001b[0m     tensors = pywrap_tfe.TFE_Py_Execute(ctx._handle, device_name, op_name,\n\u001b[0;32m---> 60\u001b[0;31m                                         inputs, attrs, num_outputs)\n\u001b[0m\u001b[1;32m     61\u001b[0m   \u001b[0;32mexcept\u001b[0m \u001b[0mcore\u001b[0m\u001b[0;34m.\u001b[0m\u001b[0m_NotOkStatusException\u001b[0m \u001b[0;32mas\u001b[0m \u001b[0me\u001b[0m\u001b[0;34m:\u001b[0m\u001b[0;34m\u001b[0m\u001b[0;34m\u001b[0m\u001b[0m\n\u001b[1;32m     62\u001b[0m     \u001b[0;32mif\u001b[0m \u001b[0mname\u001b[0m \u001b[0;32mis\u001b[0m \u001b[0;32mnot\u001b[0m \u001b[0;32mNone\u001b[0m\u001b[0;34m:\u001b[0m\u001b[0;34m\u001b[0m\u001b[0;34m\u001b[0m\u001b[0m\n",
            "\u001b[0;31mInvalidArgumentError\u001b[0m: 2 root error(s) found.\n  (0) Invalid argument:  Cannot add tensor to the batch: number of elements does not match. Shapes are: [tensor]: [224,224,4], [batch]: [224,224,3]\n\t [[node IteratorGetNext (defined at <ipython-input-195-74f776cf5237>:4) ]]\n\t [[IteratorGetNext/_2]]\n  (1) Invalid argument:  Cannot add tensor to the batch: number of elements does not match. Shapes are: [tensor]: [224,224,4], [batch]: [224,224,3]\n\t [[node IteratorGetNext (defined at <ipython-input-195-74f776cf5237>:4) ]]\n0 successful operations.\n0 derived errors ignored. [Op:__inference_train_function_145478]\n\nFunction call stack:\ntrain_function -> train_function\n"
          ]
        }
      ]
    },
    {
      "cell_type": "code",
      "metadata": {
        "id": "AtA0nBgFXpKJ",
        "colab": {
          "base_uri": "https://localhost:8080/",
          "height": 167
        },
        "outputId": "36db6374-406d-465c-97f1-de39e42b0777"
      },
      "source": [
        "while True: pass #keeps codelab from disconnecting"
      ],
      "execution_count": 10,
      "outputs": [
        {
          "output_type": "error",
          "ename": "KeyboardInterrupt",
          "evalue": "ignored",
          "traceback": [
            "\u001b[0;31m---------------------------------------------------------------------------\u001b[0m",
            "\u001b[0;31mKeyboardInterrupt\u001b[0m                         Traceback (most recent call last)",
            "\u001b[0;32m<ipython-input-10-03c70cc89aec>\u001b[0m in \u001b[0;36m<module>\u001b[0;34m()\u001b[0m\n\u001b[0;32m----> 1\u001b[0;31m \u001b[0;32mwhile\u001b[0m \u001b[0;32mTrue\u001b[0m\u001b[0;34m:\u001b[0m \u001b[0;32mpass\u001b[0m \u001b[0;31m#keeps codelab from disconnecting\u001b[0m\u001b[0;34m\u001b[0m\u001b[0;34m\u001b[0m\u001b[0m\n\u001b[0m",
            "\u001b[0;31mKeyboardInterrupt\u001b[0m: "
          ]
        }
      ]
    },
    {
      "cell_type": "code",
      "metadata": {
        "id": "wmkHhr6l5TbK"
      },
      "source": [
        ""
      ],
      "execution_count": null,
      "outputs": []
    },
    {
      "cell_type": "code",
      "metadata": {
        "id": "SW0TFo-EESFO"
      },
      "source": [
        ""
      ],
      "execution_count": null,
      "outputs": []
    }
  ]
}