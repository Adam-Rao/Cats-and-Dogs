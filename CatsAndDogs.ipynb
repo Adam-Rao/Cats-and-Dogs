{
  "nbformat": 4,
  "nbformat_minor": 0,
  "metadata": {
    "colab": {
      "name": "CatsAndDogs.ipynb",
      "provenance": [],
      "mount_file_id": "1wpMhle1yD5S5WnuefL_OmAzuqvI-j-lL",
      "authorship_tag": "ABX9TyMwTKDeYLvIdx7QVvAiySng",
      "include_colab_link": true
    },
    "kernelspec": {
      "name": "python3",
      "display_name": "Python 3"
    },
    "accelerator": "GPU"
  },
  "cells": [
    {
      "cell_type": "markdown",
      "metadata": {
        "id": "view-in-github",
        "colab_type": "text"
      },
      "source": [
        "<a href=\"https://colab.research.google.com/github/Adam-Rao/Cats-and-Dogs/blob/model/CatsAndDogs.ipynb\" target=\"_parent\"><img src=\"https://colab.research.google.com/assets/colab-badge.svg\" alt=\"Open In Colab\"/></a>"
      ]
    },
    {
      "cell_type": "code",
      "metadata": {
        "id": "bHqpQ6AO_Oud"
      },
      "source": [
        "#!unzip \"/content/drive/My Drive/kagglecatsanddogs_3367a.zip\" -d \"/content/drive/My Drive/Cats and Dogs Project\""
      ],
      "execution_count": null,
      "outputs": []
    },
    {
      "cell_type": "code",
      "metadata": {
        "id": "O_iNUTZZXvG0"
      },
      "source": [
        "import _io\n",
        "import matplotlib.pyplot as plt\n",
        "import numpy as np\n",
        "import os\n",
        "import pickle as pkl\n",
        "from sklearn.model_selection import train_test_split\n",
        "from sklearn.utils import shuffle\n",
        "import tensorflow as tf\n",
        "from tensorflow.keras.layers import Conv2D, MaxPool2D, Flatten, Dense\n",
        "from tensorflow.keras import Sequential\n",
        "from typing import List, Tuple"
      ],
      "execution_count": null,
      "outputs": []
    },
    {
      "cell_type": "code",
      "metadata": {
        "id": "N5pqGASaCVuI"
      },
      "source": [
        "BATCH_SIZE = 32\n",
        "DATA_LIST_TYPE = List[Tuple[str, str]]\n",
        "IMG_SIZE = 224"
      ],
      "execution_count": null,
      "outputs": []
    },
    {
      "cell_type": "code",
      "metadata": {
        "id": "nhtz3qfME-KB"
      },
      "source": [
        "def create_data_list(data_path: str , label: str) -> DATA_LIST_TYPE:\n",
        "  \"\"\"\n",
        "  data_path: path to folder containing desired files\n",
        "  label: string argument for the desired label\n",
        "\n",
        "  Creates and returns a list of tuples containing filepath and desired label\n",
        "  \"\"\"\n",
        "  dataset: DATA_LIST_TYPE = []\n",
        "  for file in os.listdir(data_path):\n",
        "    filename, file_ext = os.path.splitext(file)\n",
        "    if file_ext == \".jpg\":\n",
        "      dataset.append((f\"{data_path}/{file}\", label))\n",
        "\n",
        "  return dataset"
      ],
      "execution_count": null,
      "outputs": []
    },
    {
      "cell_type": "code",
      "metadata": {
        "id": "Ck_nGaVuGT7v"
      },
      "source": [
        "cat_data_list = create_data_list(\"/content/drive/My Drive/Cats and Dogs Project/PetImages/Cat\", \"CAT\")\n",
        "dog_data_list = create_data_list(\"/content/drive/My Drive/Cats and Dogs Project/PetImages/Dog\", \"DOG\")\n",
        "\n",
        "general_data_list = cat_data_list + dog_data_list"
      ],
      "execution_count": null,
      "outputs": []
    },
    {
      "cell_type": "code",
      "metadata": {
        "id": "m3wD3RddHjQU"
      },
      "source": [
        "def shuffle_data_list(data_list: DATA_LIST_TYPE) -> DATA_LIST_TYPE:\n",
        "  \"\"\"\n",
        "  data_list: List of tuples holding data\n",
        "  Returns shuffled list of tuples\n",
        "  \"\"\"\n",
        "  return shuffle(data_list)"
      ],
      "execution_count": null,
      "outputs": []
    },
    {
      "cell_type": "code",
      "metadata": {
        "id": "0Tf5LV-BISL6"
      },
      "source": [
        "shuffled_data_list = shuffle_data_list(general_data_list)"
      ],
      "execution_count": null,
      "outputs": []
    },
    {
      "cell_type": "code",
      "metadata": {
        "id": "XAtos_AiIhb_"
      },
      "source": [
        "def save_data_list(data_list: DATA_LIST_TYPE, file_path: str) -> None:\n",
        "  \"\"\"\n",
        "  data_list: List of tuples to be saved\n",
        "  file_path: Path to file where list is to be saved\n",
        "\n",
        "  Saves data list to specified file\n",
        "  \"\"\"\n",
        "\n",
        "  save_file = open(file_path, \"wb\")\n",
        "  pkl.dump(data_list, save_file)"
      ],
      "execution_count": null,
      "outputs": []
    },
    {
      "cell_type": "code",
      "metadata": {
        "id": "8acT9W6BLzLm"
      },
      "source": [
        "def load_data_file(file_path: str) -> _io.BufferedReader:\n",
        "  \"\"\"\n",
        "  file_path: Path to file containing saved data\n",
        "  Loads and returns saved file\n",
        "  \"\"\"\n",
        "  return open(file_path, \"rb\")"
      ],
      "execution_count": null,
      "outputs": []
    },
    {
      "cell_type": "code",
      "metadata": {
        "id": "-sw1RJ9OMNJn"
      },
      "source": [
        "save_data_list(shuffled_data_list, \"/content/drive/My Drive/Cats and Dogs Project/Extracted Data/data.pkl\")"
      ],
      "execution_count": null,
      "outputs": []
    },
    {
      "cell_type": "code",
      "metadata": {
        "id": "7m3BaB2YNxXS"
      },
      "source": [
        "with load_data_file(\"/content/drive/My Drive/Cats and Dogs Project/Extracted Data/data.pkl\") as f:\n",
        "  shuffled_data = pkl.load(f)"
      ],
      "execution_count": null,
      "outputs": []
    },
    {
      "cell_type": "code",
      "metadata": {
        "id": "2W7EnOeJN6Wl"
      },
      "source": [
        "labels = [i[1] for i in shuffled_data]\n",
        "\n",
        "unique_labels = np.unique(labels)"
      ],
      "execution_count": null,
      "outputs": []
    },
    {
      "cell_type": "code",
      "metadata": {
        "id": "DVL4MKyzOgB8"
      },
      "source": [
        "boolean_labels = [label == unique_labels for label in labels] # will form our y values"
      ],
      "execution_count": null,
      "outputs": []
    },
    {
      "cell_type": "code",
      "metadata": {
        "id": "33ZzTJwBP6l-"
      },
      "source": [
        "def create_train_test_datasets(X, y, TEST_SIZE=0.2, RANDOM_STATE=42):\n",
        "  \"\"\"\n",
        "  X: Feature values\n",
        "  y: Label values\n",
        "  TEST_SIZE: Percentage of test dataset from original. Default is 20%\n",
        "  RANDOM_STATE: Random integer. Default is 42\n",
        "\n",
        "  Creates train and test datasets from X and y values.\n",
        "  Can also be used to create train and validation datasets\n",
        "  \"\"\"\n",
        "  X_train, X_test, y_train, y_test = train_test_split(\n",
        "      X, \n",
        "      y, \n",
        "      test_size=TEST_SIZE, \n",
        "      random_state=RANDOM_STATE\n",
        "    )\n",
        "  \n",
        "  return X_train, X_test, y_train, y_test"
      ],
      "execution_count": null,
      "outputs": []
    },
    {
      "cell_type": "code",
      "metadata": {
        "id": "JgQdVFTfR5uq"
      },
      "source": [
        "def preprocess_image(file_path: str):\n",
        "  \"\"\"\n",
        "  file_path: File to image\n",
        "  Returns preprocessed image\n",
        "  \"\"\"\n",
        "\n",
        "  image = tf.io.read_file(file_path)\n",
        "  image = tf.image.decode_jpeg(image)\n",
        "  image = tf.image.convert_image_dtype(image, tf.float32)\n",
        "  image = tf.image.resize(image, [IMG_SIZE, IMG_SIZE])\n",
        "\n",
        "  return image"
      ],
      "execution_count": null,
      "outputs": []
    },
    {
      "cell_type": "code",
      "metadata": {
        "id": "ASRqP1TzUYkZ"
      },
      "source": [
        "def return_image_label(file_path: str, label: str):\n",
        "  \"\"\"\n",
        "  file_path: Path to image\n",
        "  label: Image label\n",
        "\n",
        "  returns preprocessed image and label\n",
        "  \"\"\"\n",
        "  image = preprocess_image(file_path)\n",
        "\n",
        "  return image, label"
      ],
      "execution_count": null,
      "outputs": []
    },
    {
      "cell_type": "code",
      "metadata": {
        "id": "AtA0nBgFXpKJ",
        "outputId": "ba176f99-5b77-4785-92cc-51e84f8e64b9",
        "colab": {
          "base_uri": "https://localhost:8080/",
          "height": 167
        }
      },
      "source": [
        "while True: pass #keeps codelab from disconnecting"
      ],
      "execution_count": null,
      "outputs": [
        {
          "output_type": "error",
          "ename": "KeyboardInterrupt",
          "evalue": "ignored",
          "traceback": [
            "\u001b[0;31m---------------------------------------------------------------------------\u001b[0m",
            "\u001b[0;31mKeyboardInterrupt\u001b[0m                         Traceback (most recent call last)",
            "\u001b[0;32m<ipython-input-52-03c70cc89aec>\u001b[0m in \u001b[0;36m<module>\u001b[0;34m()\u001b[0m\n\u001b[0;32m----> 1\u001b[0;31m \u001b[0;32mwhile\u001b[0m \u001b[0;32mTrue\u001b[0m\u001b[0;34m:\u001b[0m \u001b[0;32mpass\u001b[0m \u001b[0;31m#keeps codelab from disconnecting\u001b[0m\u001b[0;34m\u001b[0m\u001b[0;34m\u001b[0m\u001b[0m\n\u001b[0m",
            "\u001b[0;31mKeyboardInterrupt\u001b[0m: "
          ]
        }
      ]
    },
    {
      "cell_type": "code",
      "metadata": {
        "id": "wmkHhr6l5TbK"
      },
      "source": [
        ""
      ],
      "execution_count": null,
      "outputs": []
    }
  ]
}