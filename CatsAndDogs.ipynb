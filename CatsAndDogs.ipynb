{
  "nbformat": 4,
  "nbformat_minor": 0,
  "metadata": {
    "colab": {
      "name": "CatsAndDogs.ipynb",
      "provenance": [],
      "mount_file_id": "1wpMhle1yD5S5WnuefL_OmAzuqvI-j-lL",
      "authorship_tag": "ABX9TyNUMZVAV3W7dWo3hyrwvvKm",
      "include_colab_link": true
    },
    "kernelspec": {
      "name": "python3",
      "display_name": "Python 3"
    }
  },
  "cells": [
    {
      "cell_type": "markdown",
      "metadata": {
        "id": "view-in-github",
        "colab_type": "text"
      },
      "source": [
        "<a href=\"https://colab.research.google.com/github/Adam-Rao/Cats-and-Dogs/blob/model/CatsAndDogs.ipynb\" target=\"_parent\"><img src=\"https://colab.research.google.com/assets/colab-badge.svg\" alt=\"Open In Colab\"/></a>"
      ]
    },
    {
      "cell_type": "code",
      "metadata": {
        "id": "O_iNUTZZXvG0",
        "colab_type": "code",
        "colab": {}
      },
      "source": [
        "import _io\n",
        "import os\n",
        "import pickle as pkl\n",
        "from sklearn.utils import shuffle\n",
        "from typing import List, Tuple\n",
        "from sklearn.model_selection import train_test_split"
      ],
      "execution_count": 36,
      "outputs": []
    },
    {
      "cell_type": "code",
      "metadata": {
        "id": "qFMRX5fiW6W9",
        "colab_type": "code",
        "colab": {}
      },
      "source": [
        "CAT_DATA_PATH = \"/content/drive/My Drive/Cats and Dogs/PetImages/Cat\"\n",
        "DOG_DATA_PATH = \"/content/drive/My Drive/Cats and Dogs/PetImages/Dog\"\n",
        "GENERAL_DATA_PATH = \"/content/drive/My Drive/CAD PROJECT/Data\"\n",
        "\n",
        "DATA_TUPLE_TYPE = Tuple[str, str]\n",
        "DATA_LIST_TYPE = List[DATA_TUPLE_TYPE]"
      ],
      "execution_count": 25,
      "outputs": []
    },
    {
      "cell_type": "code",
      "metadata": {
        "id": "idfewwPLXzgk",
        "colab_type": "code",
        "colab": {}
      },
      "source": [
        "def create_data_list(label: str, path: str) -> DATA_LIST_TYPE:\n",
        "  \"\"\"\n",
        "  Function to create a list of tuples containing file path and label\n",
        "  Takes in desired label and directory holding files as arguments\n",
        "  \"\"\"\n",
        "  data_list: DATA_LIST_TYPE = []\n",
        "  for file in os.listdir(path):\n",
        "    data_tuple: DATA_TUPLE_TYPE = (f\"{path}/{file}\", label)\n",
        "    data_list.append(data_tuple)\n",
        "  \n",
        "  return data_list"
      ],
      "execution_count": 20,
      "outputs": []
    },
    {
      "cell_type": "code",
      "metadata": {
        "id": "txtLGc0IaCdR",
        "colab_type": "code",
        "colab": {}
      },
      "source": [
        "def shuffle_data_list(data_list: DATA_LIST_TYPE) -> List[DATA_LIST_TYPE]:\n",
        "  \"\"\"\n",
        "  Shuffles list containing  data and returns shuffled list\n",
        "  Takes in list containing data as arguments\n",
        "  \"\"\"\n",
        "  return shuffle(data_list)"
      ],
      "execution_count": 21,
      "outputs": []
    },
    {
      "cell_type": "code",
      "metadata": {
        "id": "WBTVAA7jdALH",
        "colab_type": "code",
        "colab": {}
      },
      "source": [
        "def save_data(data_list: DATA_LIST_TYPE, save_path: str) -> None:\n",
        "  file = open(save_path, \"wb\")\n",
        "  pkl.dump(data_list, file)"
      ],
      "execution_count": 44,
      "outputs": []
    },
    {
      "cell_type": "code",
      "metadata": {
        "id": "-Y0rKu_zgnrp",
        "colab_type": "code",
        "colab": {}
      },
      "source": [
        "def load_data(data_path: str) -> _io.BufferedReader:\n",
        "  return open(data_path, \"rb\")"
      ],
      "execution_count": 37,
      "outputs": []
    },
    {
      "cell_type": "code",
      "metadata": {
        "id": "sHNdriN7hGkC",
        "colab_type": "code",
        "colab": {}
      },
      "source": [
        "cat_data_list = create_data_list(\"Cat\", CAT_DATA_PATH)\n",
        "dog_data_list = create_data_list(\"Dog\", DOG_DATA_PATH)\n",
        "general_data_list = cat_data_list + dog_data_list\n",
        "shuffled_general_data = shuffle_data_list(general_data_list)\n",
        "save_data(shuffled_general_data, os.path.join(GENERAL_DATA_PATH, \"data.pkl\"))"
      ],
      "execution_count": 45,
      "outputs": []
    },
    {
      "cell_type": "code",
      "metadata": {
        "id": "AtA0nBgFXpKJ",
        "colab_type": "code",
        "colab": {
          "base_uri": "https://localhost:8080/",
          "height": 167
        },
        "outputId": "36dbe25f-5e89-4a20-e4da-6b7fb36403b2"
      },
      "source": [
        "while True: pass #keeps codelab from disconnecting"
      ],
      "execution_count": 41,
      "outputs": [
        {
          "output_type": "error",
          "ename": "KeyboardInterrupt",
          "evalue": "ignored",
          "traceback": [
            "\u001b[0;31m---------------------------------------------------------------------------\u001b[0m",
            "\u001b[0;31mKeyboardInterrupt\u001b[0m                         Traceback (most recent call last)",
            "\u001b[0;32m<ipython-input-41-03c70cc89aec>\u001b[0m in \u001b[0;36m<module>\u001b[0;34m()\u001b[0m\n\u001b[0;32m----> 1\u001b[0;31m \u001b[0;32mwhile\u001b[0m \u001b[0;32mTrue\u001b[0m\u001b[0;34m:\u001b[0m \u001b[0;32mpass\u001b[0m \u001b[0;31m#keeps codelab from disconnecting\u001b[0m\u001b[0;34m\u001b[0m\u001b[0;34m\u001b[0m\u001b[0m\n\u001b[0m",
            "\u001b[0;31mKeyboardInterrupt\u001b[0m: "
          ]
        }
      ]
    },
    {
      "cell_type": "code",
      "metadata": {
        "id": "tenM8YDEXt5p",
        "colab_type": "code",
        "colab": {}
      },
      "source": [
        ""
      ],
      "execution_count": null,
      "outputs": []
    }
  ]
}