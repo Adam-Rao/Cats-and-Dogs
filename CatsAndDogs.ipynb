{
  "nbformat": 4,
  "nbformat_minor": 0,
  "metadata": {
    "colab": {
      "name": "CatsAndDogs.ipynb",
      "provenance": [],
      "mount_file_id": "1wpMhle1yD5S5WnuefL_OmAzuqvI-j-lL",
      "authorship_tag": "ABX9TyNRn2lkfvQyN0GTgur28Vog",
      "include_colab_link": true
    },
    "kernelspec": {
      "name": "python3",
      "display_name": "Python 3"
    },
    "accelerator": "GPU"
  },
  "cells": [
    {
      "cell_type": "markdown",
      "metadata": {
        "id": "view-in-github",
        "colab_type": "text"
      },
      "source": [
        "<a href=\"https://colab.research.google.com/github/Adam-Rao/Cats-and-Dogs/blob/model/CatsAndDogs.ipynb\" target=\"_parent\"><img src=\"https://colab.research.google.com/assets/colab-badge.svg\" alt=\"Open In Colab\"/></a>"
      ]
    },
    {
      "cell_type": "code",
      "metadata": {
        "id": "O_iNUTZZXvG0",
        "colab_type": "code",
        "colab": {}
      },
      "source": [
        "import _io\n",
        "import matplotlib.pyplot as plt\n",
        "import numpy as np\n",
        "import os\n",
        "import pickle as pkl\n",
        "from sklearn.model_selection import train_test_split\n",
        "from sklearn.utils import shuffle\n",
        "import tensorflow as tf\n",
        "from tensorflow.keras.layers import Conv2D, MaxPool2D, Flatten, Dense\n",
        "from tensorflow.keras import Sequential\n",
        "from typing import List, Tuple"
      ],
      "execution_count": 1,
      "outputs": []
    },
    {
      "cell_type": "code",
      "metadata": {
        "id": "qFMRX5fiW6W9",
        "colab_type": "code",
        "colab": {}
      },
      "source": [
        "# Data and saved models paths\n",
        "CAT_DATA_PATH = \"/content/drive/My Drive/Cats and Dogs/PetImages/Cat\"\n",
        "DOG_DATA_PATH = \"/content/drive/My Drive/Cats and Dogs/PetImages/Dog\"\n",
        "GENERAL_DATA_PATH = \"/content/drive/My Drive/CAD PROJECT/Data\"\n",
        "\n",
        "# Neural Net Constants\n",
        "ACTIVATION_FUNCTION = \"relu\"\n",
        "OUTPUT_ACTIVATION_FUNCTION = \"sigmoid\"\n",
        "BATCH_SIZE = 32\n",
        "DENSE_UNITS_ONE = 4096\n",
        "DENSE_UNITS_TWO = 1000\n",
        "DENSE_UNITS_THREE = 2\n",
        "FILTER_SIZE_ONE = 64\n",
        "FILTER_SIZE_TWO = 128\n",
        "FILTER_SIZE_THREE = 256\n",
        "FILTER_SIZE_FOUR = 512\n",
        "IMG_DIM = 224\n",
        "INPUT_SHAPE = [IMG_DIM, IMG_DIM, 3]\n",
        "\n",
        "# Training Constants\n",
        "NUM_EPOCHS = 100\n",
        "\n",
        "# Data Type Constants\n",
        "DATA_TUPLE_TYPE = Tuple[str, str]\n",
        "DATA_LIST_TYPE = List[DATA_TUPLE_TYPE]"
      ],
      "execution_count": 4,
      "outputs": []
    },
    {
      "cell_type": "code",
      "metadata": {
        "id": "N4AnGG2V0RGK",
        "colab_type": "code",
        "colab": {}
      },
      "source": [
        "def change_file_extension(path: str):\n",
        "  for file in os.listdir(path):\n",
        "    pre = os.path.splitext(file)[0]\n",
        "    os.rename(f\"{path}/{file}\", f\"{path}/{pre}.jpeg\")"
      ],
      "execution_count": 91,
      "outputs": []
    },
    {
      "cell_type": "code",
      "metadata": {
        "id": "Yopeu-BI0iTP",
        "colab_type": "code",
        "colab": {}
      },
      "source": [
        "change_file_extension(CAT_DATA_PATH)\n",
        "change_file_extension(DOG_DATA_PATH)"
      ],
      "execution_count": 92,
      "outputs": []
    },
    {
      "cell_type": "code",
      "metadata": {
        "id": "idfewwPLXzgk",
        "colab_type": "code",
        "colab": {}
      },
      "source": [
        "def create_data_list(label: str, path: str) -> DATA_LIST_TYPE:\n",
        "  \"\"\"\n",
        "  Function to create a list of tuples containing file path and label\n",
        "  Takes in desired label and directory holding files as arguments\n",
        "  \"\"\"\n",
        "  data_list: DATA_LIST_TYPE = []\n",
        "  for file in os.listdir(path):\n",
        "    data_tuple: DATA_TUPLE_TYPE = (f\"{path}/{file}\", label)\n",
        "    data_list.append(data_tuple)\n",
        "  \n",
        "  return data_list"
      ],
      "execution_count": 93,
      "outputs": []
    },
    {
      "cell_type": "code",
      "metadata": {
        "id": "txtLGc0IaCdR",
        "colab_type": "code",
        "colab": {}
      },
      "source": [
        "def shuffle_data_list(data_list: DATA_LIST_TYPE) -> List[DATA_LIST_TYPE]:\n",
        "  \"\"\"\n",
        "  Shuffles list containing  data and returns shuffled list\n",
        "  Takes in list containing data as arguments\n",
        "  \"\"\"\n",
        "  return shuffle(data_list)"
      ],
      "execution_count": 94,
      "outputs": []
    },
    {
      "cell_type": "code",
      "metadata": {
        "id": "WBTVAA7jdALH",
        "colab_type": "code",
        "colab": {}
      },
      "source": [
        "def save_data(data_list: DATA_LIST_TYPE, save_path: str) -> None:\n",
        "  file = open(save_path, \"wb\")\n",
        "  pkl.dump(data_list, file)"
      ],
      "execution_count": 95,
      "outputs": []
    },
    {
      "cell_type": "code",
      "metadata": {
        "id": "-Y0rKu_zgnrp",
        "colab_type": "code",
        "colab": {}
      },
      "source": [
        "def load_data(data_path: str) -> _io.BufferedReader:\n",
        "  return open(data_path, \"rb\")"
      ],
      "execution_count": 96,
      "outputs": []
    },
    {
      "cell_type": "code",
      "metadata": {
        "id": "sHNdriN7hGkC",
        "colab_type": "code",
        "colab": {}
      },
      "source": [
        "cat_data_list = create_data_list(\"Cat\", CAT_DATA_PATH)\n",
        "dog_data_list = create_data_list(\"Dog\", DOG_DATA_PATH)\n",
        "general_data_list = cat_data_list + dog_data_list\n",
        "shuffled_general_data = shuffle_data_list(general_data_list)\n",
        "save_data(shuffled_general_data, os.path.join(GENERAL_DATA_PATH, \"data.pkl\"))"
      ],
      "execution_count": 98,
      "outputs": []
    },
    {
      "cell_type": "code",
      "metadata": {
        "id": "N-XxWnrFpQG4",
        "colab_type": "code",
        "colab": {}
      },
      "source": [
        "data_file = load_data(os.path.join(GENERAL_DATA_PATH, \"data.pkl\"))\n",
        "data = pkl.load(data_file)"
      ],
      "execution_count": 99,
      "outputs": []
    },
    {
      "cell_type": "code",
      "metadata": {
        "id": "UY1RlNJKrR2k",
        "colab_type": "code",
        "colab": {}
      },
      "source": [
        "def process_image(img_path: str):\n",
        "  \"\"\"\n",
        "  READS IMAGE AND RESIZES IT TO DESIRED \n",
        "  Take in image_path as argument, returns processed image\n",
        "  \"\"\"\n",
        "  image = tf.io.read_file(img_path)\n",
        "  image = tf.image.decode_jpeg(image, channels=3)\n",
        "  image = tf.image.convert_image_dtype(image, tf.float32)\n",
        "  image = tf.image.resize(image, size=[IMG_DIM, IMG_DIM])\n",
        "  return image"
      ],
      "execution_count": 6,
      "outputs": []
    },
    {
      "cell_type": "code",
      "metadata": {
        "id": "BiF4DMebr_Ld",
        "colab_type": "code",
        "colab": {}
      },
      "source": [
        "def image_label(img_path: str, label: str) -> Tuple:\n",
        "  image = process_image(img_path)\n",
        "  return image, label"
      ],
      "execution_count": 17,
      "outputs": []
    },
    {
      "cell_type": "code",
      "metadata": {
        "id": "Ows25ZSSsegU",
        "colab_type": "code",
        "colab": {}
      },
      "source": [
        "unique_labels = np.unique([i[1] for i in data])"
      ],
      "execution_count": 100,
      "outputs": []
    },
    {
      "cell_type": "code",
      "metadata": {
        "id": "m51uUM-eBq6o",
        "colab_type": "code",
        "colab": {}
      },
      "source": [
        "def return_X_y(data):\n",
        "  X  = [i[0] for i in data]\n",
        "  labels = np.array([i[1] for i in data])\n",
        "  y = [label == unique_labels for label in labels]\n",
        "\n",
        "  return X, y"
      ],
      "execution_count": 101,
      "outputs": []
    },
    {
      "cell_type": "code",
      "metadata": {
        "id": "7pwM4M_Zy1Pk",
        "colab_type": "code",
        "colab": {}
      },
      "source": [
        "def create_data_batches(X, y=None, valid_data=False, test_data=False):\n",
        "  \"\"\"\n",
        "  Creates dataset from provided X and/or y values\n",
        "  Creates batches of 32 from created dataset\n",
        "  Return batchified data\n",
        "  \"\"\"\n",
        "  if test_data:\n",
        "    print(\"Creating test data batches...\")\n",
        "    data = tf.data.Dataset.from_tensor_slices((tf.constant(X)))\n",
        "    data_batch = data.map(process_images).batch(BATCH_SIZE)\n",
        "    return data_batch\n",
        "  elif valid_data:\n",
        "    print(\"Creating validation data batches\")\n",
        "    data = tf.data.Dataset.from_tensor_slices(\n",
        "        (tf.constant(X), tf.constant(y))\n",
        "    )\n",
        "    data_batch = data.map(image_label).batch(BATCH_SIZE)\n",
        "    return data_batch\n",
        "  else:\n",
        "    print(\"Creating train data batches\")\n",
        "    data = tf.data.Dataset.from_tensor_slices(\n",
        "        (tf.constant(X), tf.constant(y))\n",
        "    )\n",
        "    data = data.shuffle(buffer_size = len(X))\n",
        "    data = data.map(image_label)\n",
        "    data_batch = data.batch(BATCH_SIZE)\n",
        "    return data_batch"
      ],
      "execution_count": 65,
      "outputs": []
    },
    {
      "cell_type": "code",
      "metadata": {
        "id": "F8YANcVM3Ex5",
        "colab_type": "code",
        "colab": {}
      },
      "source": [
        "def create_model():\n",
        "  \"\"\"\n",
        "  Creates and returns defined model\n",
        "  \"\"\"\n",
        "  model = Sequential([\n",
        "    Conv2D(FILTER_SIZE_ONE, (3, 3), activation=ACTIVATION_FUNCTION, input_shape=INPUT_SHAPE),\n",
        "    MaxPool2D(),\n",
        "    Conv2D(FILTER_SIZE_TWO, (3, 3), activation=ACTIVATION_FUNCTION),\n",
        "    MaxPool2D(),\n",
        "    Conv2D(FILTER_SIZE_THREE, (3, 3), activation=ACTIVATION_FUNCTION),\n",
        "    Conv2D(FILTER_SIZE_THREE, (3, 3), activation=ACTIVATION_FUNCTION),\n",
        "    MaxPool2D(),\n",
        "    Conv2D(FILTER_SIZE_FOUR, (3, 3), activation=ACTIVATION_FUNCTION),\n",
        "    Conv2D(FILTER_SIZE_FOUR, (3, 3), activation=ACTIVATION_FUNCTION),\n",
        "    MaxPool2D(),\n",
        "    Conv2D(FILTER_SIZE_FOUR, (3, 3), activation=ACTIVATION_FUNCTION),\n",
        "    Conv2D(FILTER_SIZE_FOUR, (3, 3), activation=ACTIVATION_FUNCTION),\n",
        "    MaxPool2D(),\n",
        "    Flatten(),\n",
        "    Dense(units=DENSE_UNITS_ONE, activation=ACTIVATION_FUNCTION),\n",
        "    Dense(units=DENSE_UNITS_ONE, activation=ACTIVATION_FUNCTION),\n",
        "    Dense(units=DENSE_UNITS_TWO, activation=ACTIVATION_FUNCTION),\n",
        "    Dense(units=DENSE_UNITS_THREE, activation=OUTPUT_ACTIVATION_FUNCTION)\n",
        "  ])\n",
        "\n",
        "  model.compile(\n",
        "      loss=tf.keras.losses.BinaryCrossentropy(),\n",
        "      optimizer=tf.keras.optimizers.Adam(),\n",
        "      metrics=[\"accuracy\"]\n",
        "  )  \n",
        "\n",
        "  return model"
      ],
      "execution_count": 62,
      "outputs": []
    },
    {
      "cell_type": "code",
      "metadata": {
        "id": "0GBMkA1ixWj6",
        "colab_type": "code",
        "colab": {}
      },
      "source": [
        "def return_predicted_label(prediction_probabilities):\n",
        "  \"\"\"\n",
        "  Returns label predicted by model\n",
        "  Takes in predictions array as input argument\n",
        "  \"\"\"\n",
        "  return unique_labels[np.argmax(prediction_probabilities)]"
      ],
      "execution_count": 22,
      "outputs": []
    },
    {
      "cell_type": "code",
      "metadata": {
        "id": "MdvMDK7bxW5i",
        "colab_type": "code",
        "colab": {}
      },
      "source": [
        "def debatch(dataset):\n",
        "  \"\"\"\n",
        "  Returns labels and images from batched dataset\n",
        "  \"\"\"\n",
        "  images = []\n",
        "  labels = []\n",
        "\n",
        "  with image, label in dataset.unbatch().as_numpy_iterator():\n",
        "    images.append(image)\n",
        "    labels.append(label)\n",
        "\n",
        "  return images, labels"
      ],
      "execution_count": null,
      "outputs": []
    },
    {
      "cell_type": "code",
      "metadata": {
        "id": "f4tVL_uVxXRX",
        "colab_type": "code",
        "colab": {}
      },
      "source": [
        "def visualize_prediction(\n",
        "    predictions,\n",
        "    true_labels,\n",
        "    true_images,\n",
        "    index=1\n",
        "):\n",
        "  \"\"\"\n",
        "  Takes in predictions array, true labels, true images and index as arguments\n",
        "  Show true image, and predicted label vis a vis true label\n",
        "  \"\"\"\n",
        "  prediction, label, image = predictions[index], true_labels[index], true_images[index]\n",
        "  predicted_label = return_predicted_label(prediction) \n",
        "\n",
        "  plt.imshow(image)\n",
        "  plt.xticks([])\n",
        "  plt.yticks([])\n",
        "  plt.title(f\"Predicted Label: {predicted_label}, True Label: {label}, Probability image is correct: {np.max(prediction)*100:2.2f}%\")"
      ],
      "execution_count": 23,
      "outputs": []
    },
    {
      "cell_type": "code",
      "metadata": {
        "id": "l236Ck5E7nM1",
        "colab_type": "code",
        "colab": {}
      },
      "source": [
        "## Callback to prevent overfitting\n",
        "stop_overfitting = tf.keras.callbacks.EarlyStopping(\n",
        "    monitor=\"val_accuracy\",\n",
        "    patience=3\n",
        ")"
      ],
      "execution_count": 24,
      "outputs": []
    },
    {
      "cell_type": "code",
      "metadata": {
        "id": "f8B0adTz9hQ5",
        "colab_type": "code",
        "colab": {
          "base_uri": "https://localhost:8080/",
          "height": 52
        },
        "outputId": "f68f0f54-f3cd-406a-9e9a-9370d4fbfdb9"
      },
      "source": [
        "X, y = return_X_y(data)\n",
        "\n",
        "## Create mini data for testing if model works\n",
        "X_train, X_val, y_train, y_val = train_test_split(X[0:1000], y[0:1000], test_size=0.2, random_state=42)\n",
        "\n",
        "mini_train_data = create_data_batches(X_train, y_train)\n",
        "mini_validation_data = create_data_batches(X_val, y_val, valid_data=True)"
      ],
      "execution_count": 102,
      "outputs": [
        {
          "output_type": "stream",
          "text": [
            "Creating train data batches\n",
            "Creating validation data batches\n"
          ],
          "name": "stdout"
        }
      ]
    },
    {
      "cell_type": "code",
      "metadata": {
        "id": "N8nQUdl2cRGx",
        "colab_type": "code",
        "colab": {
          "base_uri": "https://localhost:8080/",
          "height": 52
        },
        "outputId": "a8b8c32e-bdf6-4bfb-88e2-5b0ff04f629f"
      },
      "source": [
        "mini_train_data.element_spec"
      ],
      "execution_count": 61,
      "outputs": [
        {
          "output_type": "execute_result",
          "data": {
            "text/plain": [
              "(TensorSpec(shape=(None, 224, 224, 3), dtype=tf.float32, name=None),\n",
              " TensorSpec(shape=(None, 2), dtype=tf.bool, name=None))"
            ]
          },
          "metadata": {
            "tags": []
          },
          "execution_count": 61
        }
      ]
    },
    {
      "cell_type": "code",
      "metadata": {
        "id": "nWlIVm0oDSFY",
        "colab_type": "code",
        "colab": {}
      },
      "source": [
        "## Training a mini version of the model\n",
        "def train_model():\n",
        "  model = create_model()\n",
        "  model.fit(\n",
        "      x=mini_train_data,\n",
        "      epochs=NUM_EPOCHS,\n",
        "      validation_data=mini_validation_data,\n",
        "      validation_freq=1,\n",
        "      callbacks=[stop_overfitting,]\n",
        "  )\n",
        "\n",
        "  return model"
      ],
      "execution_count": 103,
      "outputs": []
    },
    {
      "cell_type": "code",
      "metadata": {
        "id": "ARNHb1v5chgA",
        "colab_type": "code",
        "colab": {
          "base_uri": "https://localhost:8080/",
          "height": 556
        },
        "outputId": "cc5045d3-2f64-48b3-d286-9648baf65ccc"
      },
      "source": [
        "model = train_model()"
      ],
      "execution_count": 104,
      "outputs": [
        {
          "output_type": "stream",
          "text": [
            "Epoch 1/100\n",
            "11/25 [============>.................] - ETA: 3:45 - loss: 0.7077 - accuracy: 0.5256"
          ],
          "name": "stdout"
        },
        {
          "output_type": "error",
          "ename": "InvalidArgumentError",
          "evalue": "ignored",
          "traceback": [
            "\u001b[0;31m---------------------------------------------------------------------------\u001b[0m",
            "\u001b[0;31mInvalidArgumentError\u001b[0m                      Traceback (most recent call last)",
            "\u001b[0;32m<ipython-input-104-84f31b599995>\u001b[0m in \u001b[0;36m<module>\u001b[0;34m()\u001b[0m\n\u001b[0;32m----> 1\u001b[0;31m \u001b[0mmodel\u001b[0m \u001b[0;34m=\u001b[0m \u001b[0mtrain_model\u001b[0m\u001b[0;34m(\u001b[0m\u001b[0;34m)\u001b[0m\u001b[0;34m\u001b[0m\u001b[0;34m\u001b[0m\u001b[0m\n\u001b[0m",
            "\u001b[0;32m<ipython-input-103-1612f588254f>\u001b[0m in \u001b[0;36mtrain_model\u001b[0;34m()\u001b[0m\n\u001b[1;32m      7\u001b[0m       \u001b[0mvalidation_data\u001b[0m\u001b[0;34m=\u001b[0m\u001b[0mmini_validation_data\u001b[0m\u001b[0;34m,\u001b[0m\u001b[0;34m\u001b[0m\u001b[0;34m\u001b[0m\u001b[0m\n\u001b[1;32m      8\u001b[0m       \u001b[0mvalidation_freq\u001b[0m\u001b[0;34m=\u001b[0m\u001b[0;36m1\u001b[0m\u001b[0;34m,\u001b[0m\u001b[0;34m\u001b[0m\u001b[0;34m\u001b[0m\u001b[0m\n\u001b[0;32m----> 9\u001b[0;31m       \u001b[0mcallbacks\u001b[0m\u001b[0;34m=\u001b[0m\u001b[0;34m[\u001b[0m\u001b[0mstop_overfitting\u001b[0m\u001b[0;34m,\u001b[0m\u001b[0;34m]\u001b[0m\u001b[0;34m\u001b[0m\u001b[0;34m\u001b[0m\u001b[0m\n\u001b[0m\u001b[1;32m     10\u001b[0m   )\n\u001b[1;32m     11\u001b[0m \u001b[0;34m\u001b[0m\u001b[0m\n",
            "\u001b[0;32m/usr/local/lib/python3.6/dist-packages/tensorflow/python/keras/engine/training.py\u001b[0m in \u001b[0;36m_method_wrapper\u001b[0;34m(self, *args, **kwargs)\u001b[0m\n\u001b[1;32m    106\u001b[0m   \u001b[0;32mdef\u001b[0m \u001b[0m_method_wrapper\u001b[0m\u001b[0;34m(\u001b[0m\u001b[0mself\u001b[0m\u001b[0;34m,\u001b[0m \u001b[0;34m*\u001b[0m\u001b[0margs\u001b[0m\u001b[0;34m,\u001b[0m \u001b[0;34m**\u001b[0m\u001b[0mkwargs\u001b[0m\u001b[0;34m)\u001b[0m\u001b[0;34m:\u001b[0m\u001b[0;34m\u001b[0m\u001b[0;34m\u001b[0m\u001b[0m\n\u001b[1;32m    107\u001b[0m     \u001b[0;32mif\u001b[0m \u001b[0;32mnot\u001b[0m \u001b[0mself\u001b[0m\u001b[0;34m.\u001b[0m\u001b[0m_in_multi_worker_mode\u001b[0m\u001b[0;34m(\u001b[0m\u001b[0;34m)\u001b[0m\u001b[0;34m:\u001b[0m  \u001b[0;31m# pylint: disable=protected-access\u001b[0m\u001b[0;34m\u001b[0m\u001b[0;34m\u001b[0m\u001b[0m\n\u001b[0;32m--> 108\u001b[0;31m       \u001b[0;32mreturn\u001b[0m \u001b[0mmethod\u001b[0m\u001b[0;34m(\u001b[0m\u001b[0mself\u001b[0m\u001b[0;34m,\u001b[0m \u001b[0;34m*\u001b[0m\u001b[0margs\u001b[0m\u001b[0;34m,\u001b[0m \u001b[0;34m**\u001b[0m\u001b[0mkwargs\u001b[0m\u001b[0;34m)\u001b[0m\u001b[0;34m\u001b[0m\u001b[0;34m\u001b[0m\u001b[0m\n\u001b[0m\u001b[1;32m    109\u001b[0m \u001b[0;34m\u001b[0m\u001b[0m\n\u001b[1;32m    110\u001b[0m     \u001b[0;31m# Running inside `run_distribute_coordinator` already.\u001b[0m\u001b[0;34m\u001b[0m\u001b[0;34m\u001b[0m\u001b[0;34m\u001b[0m\u001b[0m\n",
            "\u001b[0;32m/usr/local/lib/python3.6/dist-packages/tensorflow/python/keras/engine/training.py\u001b[0m in \u001b[0;36mfit\u001b[0;34m(self, x, y, batch_size, epochs, verbose, callbacks, validation_split, validation_data, shuffle, class_weight, sample_weight, initial_epoch, steps_per_epoch, validation_steps, validation_batch_size, validation_freq, max_queue_size, workers, use_multiprocessing)\u001b[0m\n\u001b[1;32m   1096\u001b[0m                 batch_size=batch_size):\n\u001b[1;32m   1097\u001b[0m               \u001b[0mcallbacks\u001b[0m\u001b[0;34m.\u001b[0m\u001b[0mon_train_batch_begin\u001b[0m\u001b[0;34m(\u001b[0m\u001b[0mstep\u001b[0m\u001b[0;34m)\u001b[0m\u001b[0;34m\u001b[0m\u001b[0;34m\u001b[0m\u001b[0m\n\u001b[0;32m-> 1098\u001b[0;31m               \u001b[0mtmp_logs\u001b[0m \u001b[0;34m=\u001b[0m \u001b[0mtrain_function\u001b[0m\u001b[0;34m(\u001b[0m\u001b[0miterator\u001b[0m\u001b[0;34m)\u001b[0m\u001b[0;34m\u001b[0m\u001b[0;34m\u001b[0m\u001b[0m\n\u001b[0m\u001b[1;32m   1099\u001b[0m               \u001b[0;32mif\u001b[0m \u001b[0mdata_handler\u001b[0m\u001b[0;34m.\u001b[0m\u001b[0mshould_sync\u001b[0m\u001b[0;34m:\u001b[0m\u001b[0;34m\u001b[0m\u001b[0;34m\u001b[0m\u001b[0m\n\u001b[1;32m   1100\u001b[0m                 \u001b[0mcontext\u001b[0m\u001b[0;34m.\u001b[0m\u001b[0masync_wait\u001b[0m\u001b[0;34m(\u001b[0m\u001b[0;34m)\u001b[0m\u001b[0;34m\u001b[0m\u001b[0;34m\u001b[0m\u001b[0m\n",
            "\u001b[0;32m/usr/local/lib/python3.6/dist-packages/tensorflow/python/eager/def_function.py\u001b[0m in \u001b[0;36m__call__\u001b[0;34m(self, *args, **kwds)\u001b[0m\n\u001b[1;32m    778\u001b[0m       \u001b[0;32melse\u001b[0m\u001b[0;34m:\u001b[0m\u001b[0;34m\u001b[0m\u001b[0;34m\u001b[0m\u001b[0m\n\u001b[1;32m    779\u001b[0m         \u001b[0mcompiler\u001b[0m \u001b[0;34m=\u001b[0m \u001b[0;34m\"nonXla\"\u001b[0m\u001b[0;34m\u001b[0m\u001b[0;34m\u001b[0m\u001b[0m\n\u001b[0;32m--> 780\u001b[0;31m         \u001b[0mresult\u001b[0m \u001b[0;34m=\u001b[0m \u001b[0mself\u001b[0m\u001b[0;34m.\u001b[0m\u001b[0m_call\u001b[0m\u001b[0;34m(\u001b[0m\u001b[0;34m*\u001b[0m\u001b[0margs\u001b[0m\u001b[0;34m,\u001b[0m \u001b[0;34m**\u001b[0m\u001b[0mkwds\u001b[0m\u001b[0;34m)\u001b[0m\u001b[0;34m\u001b[0m\u001b[0;34m\u001b[0m\u001b[0m\n\u001b[0m\u001b[1;32m    781\u001b[0m \u001b[0;34m\u001b[0m\u001b[0m\n\u001b[1;32m    782\u001b[0m       \u001b[0mnew_tracing_count\u001b[0m \u001b[0;34m=\u001b[0m \u001b[0mself\u001b[0m\u001b[0;34m.\u001b[0m\u001b[0m_get_tracing_count\u001b[0m\u001b[0;34m(\u001b[0m\u001b[0;34m)\u001b[0m\u001b[0;34m\u001b[0m\u001b[0;34m\u001b[0m\u001b[0m\n",
            "\u001b[0;32m/usr/local/lib/python3.6/dist-packages/tensorflow/python/eager/def_function.py\u001b[0m in \u001b[0;36m_call\u001b[0;34m(self, *args, **kwds)\u001b[0m\n\u001b[1;32m    805\u001b[0m       \u001b[0;31m# In this case we have created variables on the first call, so we run the\u001b[0m\u001b[0;34m\u001b[0m\u001b[0;34m\u001b[0m\u001b[0;34m\u001b[0m\u001b[0m\n\u001b[1;32m    806\u001b[0m       \u001b[0;31m# defunned version which is guaranteed to never create variables.\u001b[0m\u001b[0;34m\u001b[0m\u001b[0;34m\u001b[0m\u001b[0;34m\u001b[0m\u001b[0m\n\u001b[0;32m--> 807\u001b[0;31m       \u001b[0;32mreturn\u001b[0m \u001b[0mself\u001b[0m\u001b[0;34m.\u001b[0m\u001b[0m_stateless_fn\u001b[0m\u001b[0;34m(\u001b[0m\u001b[0;34m*\u001b[0m\u001b[0margs\u001b[0m\u001b[0;34m,\u001b[0m \u001b[0;34m**\u001b[0m\u001b[0mkwds\u001b[0m\u001b[0;34m)\u001b[0m  \u001b[0;31m# pylint: disable=not-callable\u001b[0m\u001b[0;34m\u001b[0m\u001b[0;34m\u001b[0m\u001b[0m\n\u001b[0m\u001b[1;32m    808\u001b[0m     \u001b[0;32melif\u001b[0m \u001b[0mself\u001b[0m\u001b[0;34m.\u001b[0m\u001b[0m_stateful_fn\u001b[0m \u001b[0;32mis\u001b[0m \u001b[0;32mnot\u001b[0m \u001b[0;32mNone\u001b[0m\u001b[0;34m:\u001b[0m\u001b[0;34m\u001b[0m\u001b[0;34m\u001b[0m\u001b[0m\n\u001b[1;32m    809\u001b[0m       \u001b[0;31m# Release the lock early so that multiple threads can perform the call\u001b[0m\u001b[0;34m\u001b[0m\u001b[0;34m\u001b[0m\u001b[0;34m\u001b[0m\u001b[0m\n",
            "\u001b[0;32m/usr/local/lib/python3.6/dist-packages/tensorflow/python/eager/function.py\u001b[0m in \u001b[0;36m__call__\u001b[0;34m(self, *args, **kwargs)\u001b[0m\n\u001b[1;32m   2827\u001b[0m     \u001b[0;32mwith\u001b[0m \u001b[0mself\u001b[0m\u001b[0;34m.\u001b[0m\u001b[0m_lock\u001b[0m\u001b[0;34m:\u001b[0m\u001b[0;34m\u001b[0m\u001b[0;34m\u001b[0m\u001b[0m\n\u001b[1;32m   2828\u001b[0m       \u001b[0mgraph_function\u001b[0m\u001b[0;34m,\u001b[0m \u001b[0margs\u001b[0m\u001b[0;34m,\u001b[0m \u001b[0mkwargs\u001b[0m \u001b[0;34m=\u001b[0m \u001b[0mself\u001b[0m\u001b[0;34m.\u001b[0m\u001b[0m_maybe_define_function\u001b[0m\u001b[0;34m(\u001b[0m\u001b[0margs\u001b[0m\u001b[0;34m,\u001b[0m \u001b[0mkwargs\u001b[0m\u001b[0;34m)\u001b[0m\u001b[0;34m\u001b[0m\u001b[0;34m\u001b[0m\u001b[0m\n\u001b[0;32m-> 2829\u001b[0;31m     \u001b[0;32mreturn\u001b[0m \u001b[0mgraph_function\u001b[0m\u001b[0;34m.\u001b[0m\u001b[0m_filtered_call\u001b[0m\u001b[0;34m(\u001b[0m\u001b[0margs\u001b[0m\u001b[0;34m,\u001b[0m \u001b[0mkwargs\u001b[0m\u001b[0;34m)\u001b[0m  \u001b[0;31m# pylint: disable=protected-access\u001b[0m\u001b[0;34m\u001b[0m\u001b[0;34m\u001b[0m\u001b[0m\n\u001b[0m\u001b[1;32m   2830\u001b[0m \u001b[0;34m\u001b[0m\u001b[0m\n\u001b[1;32m   2831\u001b[0m   \u001b[0;34m@\u001b[0m\u001b[0mproperty\u001b[0m\u001b[0;34m\u001b[0m\u001b[0;34m\u001b[0m\u001b[0m\n",
            "\u001b[0;32m/usr/local/lib/python3.6/dist-packages/tensorflow/python/eager/function.py\u001b[0m in \u001b[0;36m_filtered_call\u001b[0;34m(self, args, kwargs, cancellation_manager)\u001b[0m\n\u001b[1;32m   1846\u001b[0m                            resource_variable_ops.BaseResourceVariable))],\n\u001b[1;32m   1847\u001b[0m         \u001b[0mcaptured_inputs\u001b[0m\u001b[0;34m=\u001b[0m\u001b[0mself\u001b[0m\u001b[0;34m.\u001b[0m\u001b[0mcaptured_inputs\u001b[0m\u001b[0;34m,\u001b[0m\u001b[0;34m\u001b[0m\u001b[0;34m\u001b[0m\u001b[0m\n\u001b[0;32m-> 1848\u001b[0;31m         cancellation_manager=cancellation_manager)\n\u001b[0m\u001b[1;32m   1849\u001b[0m \u001b[0;34m\u001b[0m\u001b[0m\n\u001b[1;32m   1850\u001b[0m   \u001b[0;32mdef\u001b[0m \u001b[0m_call_flat\u001b[0m\u001b[0;34m(\u001b[0m\u001b[0mself\u001b[0m\u001b[0;34m,\u001b[0m \u001b[0margs\u001b[0m\u001b[0;34m,\u001b[0m \u001b[0mcaptured_inputs\u001b[0m\u001b[0;34m,\u001b[0m \u001b[0mcancellation_manager\u001b[0m\u001b[0;34m=\u001b[0m\u001b[0;32mNone\u001b[0m\u001b[0;34m)\u001b[0m\u001b[0;34m:\u001b[0m\u001b[0;34m\u001b[0m\u001b[0;34m\u001b[0m\u001b[0m\n",
            "\u001b[0;32m/usr/local/lib/python3.6/dist-packages/tensorflow/python/eager/function.py\u001b[0m in \u001b[0;36m_call_flat\u001b[0;34m(self, args, captured_inputs, cancellation_manager)\u001b[0m\n\u001b[1;32m   1922\u001b[0m       \u001b[0;31m# No tape is watching; skip to running the function.\u001b[0m\u001b[0;34m\u001b[0m\u001b[0;34m\u001b[0m\u001b[0;34m\u001b[0m\u001b[0m\n\u001b[1;32m   1923\u001b[0m       return self._build_call_outputs(self._inference_function.call(\n\u001b[0;32m-> 1924\u001b[0;31m           ctx, args, cancellation_manager=cancellation_manager))\n\u001b[0m\u001b[1;32m   1925\u001b[0m     forward_backward = self._select_forward_and_backward_functions(\n\u001b[1;32m   1926\u001b[0m         \u001b[0margs\u001b[0m\u001b[0;34m,\u001b[0m\u001b[0;34m\u001b[0m\u001b[0;34m\u001b[0m\u001b[0m\n",
            "\u001b[0;32m/usr/local/lib/python3.6/dist-packages/tensorflow/python/eager/function.py\u001b[0m in \u001b[0;36mcall\u001b[0;34m(self, ctx, args, cancellation_manager)\u001b[0m\n\u001b[1;32m    548\u001b[0m               \u001b[0minputs\u001b[0m\u001b[0;34m=\u001b[0m\u001b[0margs\u001b[0m\u001b[0;34m,\u001b[0m\u001b[0;34m\u001b[0m\u001b[0;34m\u001b[0m\u001b[0m\n\u001b[1;32m    549\u001b[0m               \u001b[0mattrs\u001b[0m\u001b[0;34m=\u001b[0m\u001b[0mattrs\u001b[0m\u001b[0;34m,\u001b[0m\u001b[0;34m\u001b[0m\u001b[0;34m\u001b[0m\u001b[0m\n\u001b[0;32m--> 550\u001b[0;31m               ctx=ctx)\n\u001b[0m\u001b[1;32m    551\u001b[0m         \u001b[0;32melse\u001b[0m\u001b[0;34m:\u001b[0m\u001b[0;34m\u001b[0m\u001b[0;34m\u001b[0m\u001b[0m\n\u001b[1;32m    552\u001b[0m           outputs = execute.execute_with_cancellation(\n",
            "\u001b[0;32m/usr/local/lib/python3.6/dist-packages/tensorflow/python/eager/execute.py\u001b[0m in \u001b[0;36mquick_execute\u001b[0;34m(op_name, num_outputs, inputs, attrs, ctx, name)\u001b[0m\n\u001b[1;32m     58\u001b[0m     \u001b[0mctx\u001b[0m\u001b[0;34m.\u001b[0m\u001b[0mensure_initialized\u001b[0m\u001b[0;34m(\u001b[0m\u001b[0;34m)\u001b[0m\u001b[0;34m\u001b[0m\u001b[0;34m\u001b[0m\u001b[0m\n\u001b[1;32m     59\u001b[0m     tensors = pywrap_tfe.TFE_Py_Execute(ctx._handle, device_name, op_name,\n\u001b[0;32m---> 60\u001b[0;31m                                         inputs, attrs, num_outputs)\n\u001b[0m\u001b[1;32m     61\u001b[0m   \u001b[0;32mexcept\u001b[0m \u001b[0mcore\u001b[0m\u001b[0;34m.\u001b[0m\u001b[0m_NotOkStatusException\u001b[0m \u001b[0;32mas\u001b[0m \u001b[0me\u001b[0m\u001b[0;34m:\u001b[0m\u001b[0;34m\u001b[0m\u001b[0;34m\u001b[0m\u001b[0m\n\u001b[1;32m     62\u001b[0m     \u001b[0;32mif\u001b[0m \u001b[0mname\u001b[0m \u001b[0;32mis\u001b[0m \u001b[0;32mnot\u001b[0m \u001b[0;32mNone\u001b[0m\u001b[0;34m:\u001b[0m\u001b[0;34m\u001b[0m\u001b[0;34m\u001b[0m\u001b[0m\n",
            "\u001b[0;31mInvalidArgumentError\u001b[0m: 2 root error(s) found.\n  (0) Invalid argument:  Expected image (JPEG, PNG, or GIF), got unknown format starting with 'BMv~\\005\\000\\000\\000\\000\\0006\\000\\000\\000(\\000'\n\t [[{{node DecodeJpeg}}]]\n\t [[IteratorGetNext]]\n  (1) Invalid argument:  Expected image (JPEG, PNG, or GIF), got unknown format starting with 'BMv~\\005\\000\\000\\000\\000\\0006\\000\\000\\000(\\000'\n\t [[{{node DecodeJpeg}}]]\n\t [[IteratorGetNext]]\n\t [[IteratorGetNext/_2]]\n0 successful operations.\n0 derived errors ignored. [Op:__inference_train_function_10307]\n\nFunction call stack:\ntrain_function -> train_function\n"
          ]
        }
      ]
    },
    {
      "cell_type": "code",
      "metadata": {
        "id": "AtA0nBgFXpKJ",
        "colab_type": "code",
        "colab": {
          "base_uri": "https://localhost:8080/",
          "height": 167
        },
        "outputId": "b58dc484-a4bd-4bdb-9fd7-ea917fece020"
      },
      "source": [
        "while True: pass #keeps codelab from disconnecting"
      ],
      "execution_count": 69,
      "outputs": [
        {
          "output_type": "error",
          "ename": "KeyboardInterrupt",
          "evalue": "ignored",
          "traceback": [
            "\u001b[0;31m---------------------------------------------------------------------------\u001b[0m",
            "\u001b[0;31mKeyboardInterrupt\u001b[0m                         Traceback (most recent call last)",
            "\u001b[0;32m<ipython-input-69-03c70cc89aec>\u001b[0m in \u001b[0;36m<module>\u001b[0;34m()\u001b[0m\n\u001b[0;32m----> 1\u001b[0;31m \u001b[0;32mwhile\u001b[0m \u001b[0;32mTrue\u001b[0m\u001b[0;34m:\u001b[0m \u001b[0;32mpass\u001b[0m \u001b[0;31m#keeps codelab from disconnecting\u001b[0m\u001b[0;34m\u001b[0m\u001b[0;34m\u001b[0m\u001b[0m\n\u001b[0m",
            "\u001b[0;31mKeyboardInterrupt\u001b[0m: "
          ]
        }
      ]
    },
    {
      "cell_type": "code",
      "metadata": {
        "id": "UT81RYUn2Nc-",
        "colab_type": "code",
        "colab": {}
      },
      "source": [
        ""
      ],
      "execution_count": null,
      "outputs": []
    }
  ]
}