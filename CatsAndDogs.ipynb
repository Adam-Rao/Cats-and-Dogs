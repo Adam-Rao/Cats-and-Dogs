{
  "nbformat": 4,
  "nbformat_minor": 0,
  "metadata": {
    "colab": {
      "name": "CatsAndDogs.ipynb",
      "provenance": [],
      "mount_file_id": "1wpMhle1yD5S5WnuefL_OmAzuqvI-j-lL",
      "authorship_tag": "ABX9TyNMK21VC6mf08Qzg/Njaipu",
      "include_colab_link": true
    },
    "kernelspec": {
      "name": "python3",
      "display_name": "Python 3"
    }
  },
  "cells": [
    {
      "cell_type": "markdown",
      "metadata": {
        "id": "view-in-github",
        "colab_type": "text"
      },
      "source": [
        "<a href=\"https://colab.research.google.com/github/Adam-Rao/Cats-and-Dogs/blob/model/CatsAndDogs.ipynb\" target=\"_parent\"><img src=\"https://colab.research.google.com/assets/colab-badge.svg\" alt=\"Open In Colab\"/></a>"
      ]
    },
    {
      "cell_type": "code",
      "metadata": {
        "id": "O_iNUTZZXvG0",
        "colab_type": "code",
        "colab": {}
      },
      "source": [
        "import _io\n",
        "import os\n",
        "import pickle as pkl\n",
        "import numpy as np\n",
        "import tensorflow as tf\n",
        "from sklearn.utils import shuffle\n",
        "from typing import List, Tuple\n",
        "from sklearn.model_selection import train_test_split"
      ],
      "execution_count": 22,
      "outputs": []
    },
    {
      "cell_type": "code",
      "metadata": {
        "id": "qFMRX5fiW6W9",
        "colab_type": "code",
        "colab": {}
      },
      "source": [
        "BATCH_SIZE = 32\n",
        "CAT_DATA_PATH = \"/content/drive/My Drive/Cats and Dogs/PetImages/Cat\"\n",
        "DOG_DATA_PATH = \"/content/drive/My Drive/Cats and Dogs/PetImages/Dog\"\n",
        "GENERAL_DATA_PATH = \"/content/drive/My Drive/CAD PROJECT/Data\"\n",
        "IMG_DIM = 224\n",
        "INPUT_SIZE = [IMG_DIM, IMG_DIM, 3]\n",
        "\n",
        "DATA_TUPLE_TYPE = Tuple[str, str]\n",
        "DATA_LIST_TYPE = List[DATA_TUPLE_TYPE]"
      ],
      "execution_count": 68,
      "outputs": []
    },
    {
      "cell_type": "code",
      "metadata": {
        "id": "idfewwPLXzgk",
        "colab_type": "code",
        "colab": {}
      },
      "source": [
        "def create_data_list(label: str, path: str) -> DATA_LIST_TYPE:\n",
        "  \"\"\"\n",
        "  Function to create a list of tuples containing file path and label\n",
        "  Takes in desired label and directory holding files as arguments\n",
        "  \"\"\"\n",
        "  data_list: DATA_LIST_TYPE = []\n",
        "  for file in os.listdir(path):\n",
        "    data_tuple: DATA_TUPLE_TYPE = (f\"{path}/{file}\", label)\n",
        "    data_list.append(data_tuple)\n",
        "  \n",
        "  return data_list"
      ],
      "execution_count": 10,
      "outputs": []
    },
    {
      "cell_type": "code",
      "metadata": {
        "id": "txtLGc0IaCdR",
        "colab_type": "code",
        "colab": {}
      },
      "source": [
        "def shuffle_data_list(data_list: DATA_LIST_TYPE) -> List[DATA_LIST_TYPE]:\n",
        "  \"\"\"\n",
        "  Shuffles list containing  data and returns shuffled list\n",
        "  Takes in list containing data as arguments\n",
        "  \"\"\"\n",
        "  return shuffle(data_list)"
      ],
      "execution_count": 11,
      "outputs": []
    },
    {
      "cell_type": "code",
      "metadata": {
        "id": "WBTVAA7jdALH",
        "colab_type": "code",
        "colab": {}
      },
      "source": [
        "def save_data(data_list: DATA_LIST_TYPE, save_path: str) -> None:\n",
        "  file = open(save_path, \"wb\")\n",
        "  pkl.dump(data_list, file)"
      ],
      "execution_count": null,
      "outputs": []
    },
    {
      "cell_type": "code",
      "metadata": {
        "id": "-Y0rKu_zgnrp",
        "colab_type": "code",
        "colab": {}
      },
      "source": [
        "def load_data(data_path: str) -> _io.BufferedReader:\n",
        "  return open(data_path, \"rb\")"
      ],
      "execution_count": 12,
      "outputs": []
    },
    {
      "cell_type": "code",
      "metadata": {
        "id": "sHNdriN7hGkC",
        "colab_type": "code",
        "colab": {}
      },
      "source": [
        "# cat_data_list = create_data_list(\"Cat\", CAT_DATA_PATH)\n",
        "# dog_data_list = create_data_list(\"Dog\", DOG_DATA_PATH)\n",
        "# general_data_list = cat_data_list + dog_data_list\n",
        "# shuffled_general_data = shuffle_data_list(general_data_list)\n",
        "# save_data(shuffled_general_data, os.path.join(GENERAL_DATA_PATH, \"data.pkl\"))"
      ],
      "execution_count": 3,
      "outputs": []
    },
    {
      "cell_type": "code",
      "metadata": {
        "id": "N-XxWnrFpQG4",
        "colab_type": "code",
        "colab": {}
      },
      "source": [
        "data_file = load_data(os.path.join(GENERAL_DATA_PATH, \"data.pkl\"))\n",
        "data = pkl.load(data_file)"
      ],
      "execution_count": null,
      "outputs": []
    },
    {
      "cell_type": "code",
      "metadata": {
        "id": "UY1RlNJKrR2k",
        "colab_type": "code",
        "colab": {}
      },
      "source": [
        "def process_image(img_path: str):\n",
        "  \"\"\"\n",
        "  READS IMAGE AND RESIZES IT TO DESIRED \n",
        "  Take in image_path as argument, returns processed image\n",
        "  \"\"\"\n",
        "  image = tf.io.read_file(img_path)\n",
        "  image = tf.image.decode_png(image, channels=3)\n",
        "  image = tf.image.resize(image, [IMG_DIM, IMG_DIM])\n",
        "  return image"
      ],
      "execution_count": 18,
      "outputs": []
    },
    {
      "cell_type": "code",
      "metadata": {
        "id": "BiF4DMebr_Ld",
        "colab_type": "code",
        "colab": {}
      },
      "source": [
        "def image_label(img_path: str, label: str) -> Tuple:\n",
        "  image = process_image(img_path)\n",
        "  return image, label"
      ],
      "execution_count": 24,
      "outputs": []
    },
    {
      "cell_type": "code",
      "metadata": {
        "id": "Ows25ZSSsegU",
        "colab_type": "code",
        "colab": {}
      },
      "source": [
        "# Create unique labels and y labels from them\n",
        "labels = np.array([i[1] for i in data])\n",
        "unique_labels = np.unique(labels)"
      ],
      "execution_count": 65,
      "outputs": []
    },
    {
      "cell_type": "code",
      "metadata": {
        "id": "YcX495Qzyn4g",
        "colab_type": "code",
        "colab": {}
      },
      "source": [
        "boolean_labels = [label == unique_labels for label in labels] # will form y labels\n",
        "images = [i[0] for i in data] # will form X values"
      ],
      "execution_count": 66,
      "outputs": []
    },
    {
      "cell_type": "code",
      "metadata": {
        "id": "7pwM4M_Zy1Pk",
        "colab_type": "code",
        "colab": {}
      },
      "source": [
        "def create_data_batches(X, y=None, valid_data=False, test_data=False):\n",
        "  \"\"\"\n",
        "  Creates dataset from provided X and/or y values\n",
        "  Creates batches of 32 from created dataset\n",
        "  Return batchified data\n",
        "  \"\"\"\n",
        "  if test_data:\n",
        "    print(\"Creating test data batches...\")\n",
        "    data = tf.data.Dataset.from_tensor_slices((tf.constant(X)))\n",
        "    data_batch = data.map(process_images).batch(BATCH_SIZE)\n",
        "    return data_batch\n",
        "  elif valid_data:\n",
        "    print(\"Creating validation data batches\")\n",
        "    data = tf.data.Dataset.from_tensor_slices(\n",
        "        (tf.constant(X), tf.constant(y))\n",
        "    )\n",
        "    data_batch = data.map(image_label).batch(BATCH_SIZE)\n",
        "    return data_batch\n",
        "  else:\n",
        "    print(\"Creating train data batches\")\n",
        "    data = tf.data.Dataset.from_tensor_slices(\n",
        "        (tf.constant(X), tf.constant(y))\n",
        "    )\n",
        "    data = data.shuffle(buffer_size = len(X))\n",
        "    data_batch = data.map(image_label).batch(BATCH_SIZE)\n",
        "    return data_batch"
      ],
      "execution_count": 71,
      "outputs": []
    },
    {
      "cell_type": "code",
      "metadata": {
        "id": "g9qcrXge2cKA",
        "colab_type": "code",
        "colab": {
          "base_uri": "https://localhost:8080/",
          "height": 34
        },
        "outputId": "41e089b0-4139-4711-d498-7d1507abbedc"
      },
      "source": [
        ""
      ],
      "execution_count": 72,
      "outputs": [
        {
          "output_type": "stream",
          "text": [
            "Creating train data batches\n"
          ],
          "name": "stdout"
        }
      ]
    },
    {
      "cell_type": "code",
      "metadata": {
        "id": "F8YANcVM3Ex5",
        "colab_type": "code",
        "colab": {
          "base_uri": "https://localhost:8080/",
          "height": 34
        },
        "outputId": "06e47a79-db83-4ff9-feb0-5e3dac9620b0"
      },
      "source": [
        ""
      ],
      "execution_count": 73,
      "outputs": [
        {
          "output_type": "execute_result",
          "data": {
            "text/plain": [
              "<BatchDataset shapes: ((None, 224, 224, 3), (None, 2)), types: (tf.float32, tf.bool)>"
            ]
          },
          "metadata": {
            "tags": []
          },
          "execution_count": 73
        }
      ]
    },
    {
      "cell_type": "code",
      "metadata": {
        "id": "AtA0nBgFXpKJ",
        "colab_type": "code",
        "colab": {
          "base_uri": "https://localhost:8080/",
          "height": 167
        },
        "outputId": "adde2679-dc5a-4e7e-d3ab-15f932ca479c"
      },
      "source": [
        "while True: pass #keeps codelab from disconnecting"
      ],
      "execution_count": 67,
      "outputs": [
        {
          "output_type": "error",
          "ename": "KeyboardInterrupt",
          "evalue": "ignored",
          "traceback": [
            "\u001b[0;31m---------------------------------------------------------------------------\u001b[0m",
            "\u001b[0;31mKeyboardInterrupt\u001b[0m                         Traceback (most recent call last)",
            "\u001b[0;32m<ipython-input-67-03c70cc89aec>\u001b[0m in \u001b[0;36m<module>\u001b[0;34m()\u001b[0m\n\u001b[0;32m----> 1\u001b[0;31m \u001b[0;32mwhile\u001b[0m \u001b[0;32mTrue\u001b[0m\u001b[0;34m:\u001b[0m \u001b[0;32mpass\u001b[0m \u001b[0;31m#keeps codelab from disconnecting\u001b[0m\u001b[0;34m\u001b[0m\u001b[0;34m\u001b[0m\u001b[0m\n\u001b[0m",
            "\u001b[0;31mKeyboardInterrupt\u001b[0m: "
          ]
        }
      ]
    },
    {
      "cell_type": "code",
      "metadata": {
        "id": "tenM8YDEXt5p",
        "colab_type": "code",
        "colab": {}
      },
      "source": [
        ""
      ],
      "execution_count": null,
      "outputs": []
    }
  ]
}