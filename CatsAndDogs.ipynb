{
  "nbformat": 4,
  "nbformat_minor": 0,
  "metadata": {
    "colab": {
      "name": "CatsAndDogs.ipynb",
      "provenance": [],
      "mount_file_id": "1wpMhle1yD5S5WnuefL_OmAzuqvI-j-lL",
      "authorship_tag": "ABX9TyN7MgqzcCawaW3XxBVctuKf",
      "include_colab_link": true
    },
    "kernelspec": {
      "name": "python3",
      "display_name": "Python 3"
    },
    "accelerator": "GPU"
  },
  "cells": [
    {
      "cell_type": "markdown",
      "metadata": {
        "id": "view-in-github",
        "colab_type": "text"
      },
      "source": [
        "<a href=\"https://colab.research.google.com/github/Adam-Rao/Cats-and-Dogs/blob/master/CatsAndDogs.ipynb\" target=\"_parent\"><img src=\"https://colab.research.google.com/assets/colab-badge.svg\" alt=\"Open In Colab\"/></a>"
      ]
    },
    {
      "cell_type": "code",
      "metadata": {
        "id": "bHqpQ6AO_Oud"
      },
      "source": [
        "#!unzip \"/content/drive/My Drive/kagglecatsanddogs_3367a.zip\" -d \"/content/drive/My Drive/Cats and Dogs Project\""
      ],
      "execution_count": null,
      "outputs": []
    },
    {
      "cell_type": "code",
      "metadata": {
        "id": "O_iNUTZZXvG0"
      },
      "source": [
        "import _io\n",
        "import matplotlib.pyplot as plt\n",
        "import numpy as np\n",
        "import os\n",
        "import pickle as pkl\n",
        "from sklearn.model_selection import train_test_split\n",
        "from sklearn.utils import shuffle\n",
        "import tensorflow as tf\n",
        "from tensorflow.keras.layers import Conv2D, MaxPool2D, Flatten, Dense\n",
        "from tensorflow.keras import Sequential\n",
        "from typing import List, Tuple"
      ],
      "execution_count": 5,
      "outputs": []
    },
    {
      "cell_type": "code",
      "metadata": {
        "id": "N5pqGASaCVuI"
      },
      "source": [
        "DATA_LIST_TYPE = List[Tuple[str, str]]"
      ],
      "execution_count": 19,
      "outputs": []
    },
    {
      "cell_type": "code",
      "metadata": {
        "id": "nhtz3qfME-KB"
      },
      "source": [
        "def create_data_list(data_path: str , label: str) -> DATA_LIST_TYPE:\n",
        "  \"\"\"\n",
        "  data_path: path to folder containing desired files\n",
        "  label: string argument for the desired label\n",
        "\n",
        "  Creates and returns a list of tuples containing filepath and desired label\n",
        "  \"\"\"\n",
        "  dataset: DATA_LIST_TYPE = []\n",
        "  for file in os.listdir(data_path):\n",
        "    filename, file_ext = os.path.splitext(file)\n",
        "    if file_ext == \".jpg\":\n",
        "      dataset.append((file, label))\n",
        "\n",
        "  return dataset"
      ],
      "execution_count": 20,
      "outputs": []
    },
    {
      "cell_type": "code",
      "metadata": {
        "id": "Ck_nGaVuGT7v"
      },
      "source": [
        "cat_data_list = create_data_list(\"/content/drive/My Drive/Cats and Dogs Project/PetImages/Cat\", \"CAT\")\n",
        "dog_data_list = create_data_list(\"/content/drive/My Drive/Cats and Dogs Project/PetImages/Dog\", \"DOG\")\n",
        "\n",
        "general_data_list = cat_data_list + dog_data_list"
      ],
      "execution_count": null,
      "outputs": []
    },
    {
      "cell_type": "code",
      "metadata": {
        "id": "m3wD3RddHjQU"
      },
      "source": [
        "def shuffle_data_list(data_list: DATA_LIST_TYPE) -> DATA_LIST_TYPE:\n",
        "  \"\"\"\n",
        "  data_list: List of tuples holding data\n",
        "  Returns shuffled list of tuples\n",
        "  \"\"\"\n",
        "  return shuffle(data_list)"
      ],
      "execution_count": 30,
      "outputs": []
    },
    {
      "cell_type": "code",
      "metadata": {
        "id": "0Tf5LV-BISL6"
      },
      "source": [
        "shuffled_data_list = shuffle_data_list(general_data_list)"
      ],
      "execution_count": 31,
      "outputs": []
    },
    {
      "cell_type": "code",
      "metadata": {
        "id": "XAtos_AiIhb_"
      },
      "source": [
        ""
      ],
      "execution_count": null,
      "outputs": []
    },
    {
      "cell_type": "code",
      "metadata": {
        "id": "AtA0nBgFXpKJ",
        "outputId": "60bbc75d-f994-45fc-d82b-f238702d9710",
        "colab": {
          "base_uri": "https://localhost:8080/",
          "height": 167
        }
      },
      "source": [
        "while True: pass #keeps codelab from disconnecting"
      ],
      "execution_count": 28,
      "outputs": [
        {
          "output_type": "error",
          "ename": "KeyboardInterrupt",
          "evalue": "ignored",
          "traceback": [
            "\u001b[0;31m---------------------------------------------------------------------------\u001b[0m",
            "\u001b[0;31mKeyboardInterrupt\u001b[0m                         Traceback (most recent call last)",
            "\u001b[0;32m<ipython-input-28-03c70cc89aec>\u001b[0m in \u001b[0;36m<module>\u001b[0;34m()\u001b[0m\n\u001b[0;32m----> 1\u001b[0;31m \u001b[0;32mwhile\u001b[0m \u001b[0;32mTrue\u001b[0m\u001b[0;34m:\u001b[0m \u001b[0;32mpass\u001b[0m \u001b[0;31m#keeps codelab from disconnecting\u001b[0m\u001b[0;34m\u001b[0m\u001b[0;34m\u001b[0m\u001b[0m\n\u001b[0m",
            "\u001b[0;31mKeyboardInterrupt\u001b[0m: "
          ]
        }
      ]
    },
    {
      "cell_type": "code",
      "metadata": {
        "id": "wmkHhr6l5TbK"
      },
      "source": [
        ""
      ],
      "execution_count": null,
      "outputs": []
    }
  ]
}