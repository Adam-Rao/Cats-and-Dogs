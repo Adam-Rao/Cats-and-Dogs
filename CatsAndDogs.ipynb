{
  "nbformat": 4,
  "nbformat_minor": 0,
  "metadata": {
    "colab": {
      "name": "CatsAndDogs.ipynb",
      "provenance": [],
      "mount_file_id": "1wpMhle1yD5S5WnuefL_OmAzuqvI-j-lL",
      "authorship_tag": "ABX9TyNRQ4T5+Si7lgYA50S5Cuk/",
      "include_colab_link": true
    },
    "kernelspec": {
      "name": "python3",
      "display_name": "Python 3"
    }
  },
  "cells": [
    {
      "cell_type": "markdown",
      "metadata": {
        "id": "view-in-github",
        "colab_type": "text"
      },
      "source": [
        "<a href=\"https://colab.research.google.com/github/Adam-Rao/Cats-and-Dogs/blob/model/CatsAndDogs.ipynb\" target=\"_parent\"><img src=\"https://colab.research.google.com/assets/colab-badge.svg\" alt=\"Open In Colab\"/></a>"
      ]
    },
    {
      "cell_type": "code",
      "metadata": {
        "id": "O_iNUTZZXvG0",
        "colab_type": "code",
        "colab": {}
      },
      "source": [
        "import _io\n",
        "import matplotlib.pyplot as plt\n",
        "import numpy as np\n",
        "import os\n",
        "import pickle as pkl\n",
        "from sklearn.model_selection import train_test_split\n",
        "from sklearn.utils import shuffle\n",
        "import tensorflow as tf\n",
        "from tensorflow.keras.layers import Conv2D, MaxPool2D, Flatten, Dense\n",
        "from tensorflow.keras import Sequential\n",
        "from typing import List, Tuple"
      ],
      "execution_count": 38,
      "outputs": []
    },
    {
      "cell_type": "code",
      "metadata": {
        "id": "qFMRX5fiW6W9",
        "colab_type": "code",
        "colab": {}
      },
      "source": [
        "# Data and saved models paths\n",
        "CAT_DATA_PATH = \"/content/drive/My Drive/Cats and Dogs/PetImages/Cat\"\n",
        "DOG_DATA_PATH = \"/content/drive/My Drive/Cats and Dogs/PetImages/Dog\"\n",
        "GENERAL_DATA_PATH = \"/content/drive/My Drive/CAD PROJECT/Data\"\n",
        "\n",
        "# Neural Net Constants\n",
        "ACTIVATION_FUNCTION = \"relu\"\n",
        "OUTPUT_ACTIVATION_FUNCTION = \"sigmoid\"\n",
        "BATCH_SIZE = 32\n",
        "DENSE_UNITS_ONE = 4096\n",
        "DENSE_UNITS_TWO = 1000\n",
        "DENSE_UNITS_THREE = 2\n",
        "FILTER_SIZE_ONE = 64\n",
        "FILTER_SIZE_TWO = 128\n",
        "FILTER_SIZE_THREE = 256\n",
        "FILTER_SIZE_FOUR = 512\n",
        "IMG_DIM = 224\n",
        "INPUT_SHAPE = [IMG_DIM, IMG_DIM, 3]\n",
        "\n",
        "DATA_TUPLE_TYPE = Tuple[str, str]\n",
        "DATA_LIST_TYPE = List[DATA_TUPLE_TYPE]"
      ],
      "execution_count": 25,
      "outputs": []
    },
    {
      "cell_type": "code",
      "metadata": {
        "id": "idfewwPLXzgk",
        "colab_type": "code",
        "colab": {}
      },
      "source": [
        "def create_data_list(label: str, path: str) -> DATA_LIST_TYPE:\n",
        "  \"\"\"\n",
        "  Function to create a list of tuples containing file path and label\n",
        "  Takes in desired label and directory holding files as arguments\n",
        "  \"\"\"\n",
        "  data_list: DATA_LIST_TYPE = []\n",
        "  for file in os.listdir(path):\n",
        "    data_tuple: DATA_TUPLE_TYPE = (f\"{path}/{file}\", label)\n",
        "    data_list.append(data_tuple)\n",
        "  \n",
        "  return data_list"
      ],
      "execution_count": 3,
      "outputs": []
    },
    {
      "cell_type": "code",
      "metadata": {
        "id": "txtLGc0IaCdR",
        "colab_type": "code",
        "colab": {}
      },
      "source": [
        "def shuffle_data_list(data_list: DATA_LIST_TYPE) -> List[DATA_LIST_TYPE]:\n",
        "  \"\"\"\n",
        "  Shuffles list containing  data and returns shuffled list\n",
        "  Takes in list containing data as arguments\n",
        "  \"\"\"\n",
        "  return shuffle(data_list)"
      ],
      "execution_count": null,
      "outputs": []
    },
    {
      "cell_type": "code",
      "metadata": {
        "id": "WBTVAA7jdALH",
        "colab_type": "code",
        "colab": {}
      },
      "source": [
        "def save_data(data_list: DATA_LIST_TYPE, save_path: str) -> None:\n",
        "  file = open(save_path, \"wb\")\n",
        "  pkl.dump(data_list, file)"
      ],
      "execution_count": null,
      "outputs": []
    },
    {
      "cell_type": "code",
      "metadata": {
        "id": "-Y0rKu_zgnrp",
        "colab_type": "code",
        "colab": {}
      },
      "source": [
        "def load_data(data_path: str) -> _io.BufferedReader:\n",
        "  return open(data_path, \"rb\")"
      ],
      "execution_count": 5,
      "outputs": []
    },
    {
      "cell_type": "code",
      "metadata": {
        "id": "sHNdriN7hGkC",
        "colab_type": "code",
        "colab": {}
      },
      "source": [
        "# cat_data_list = create_data_list(\"Cat\", CAT_DATA_PATH)\n",
        "# dog_data_list = create_data_list(\"Dog\", DOG_DATA_PATH)\n",
        "# general_data_list = cat_data_list + dog_data_list\n",
        "# shuffled_general_data = shuffle_data_list(general_data_list)\n",
        "# save_data(shuffled_general_data, os.path.join(GENERAL_DATA_PATH, \"data.pkl\"))"
      ],
      "execution_count": null,
      "outputs": []
    },
    {
      "cell_type": "code",
      "metadata": {
        "id": "N-XxWnrFpQG4",
        "colab_type": "code",
        "colab": {}
      },
      "source": [
        "data_file = load_data(os.path.join(GENERAL_DATA_PATH, \"data.pkl\"))\n",
        "data = pkl.load(data_file)"
      ],
      "execution_count": 6,
      "outputs": []
    },
    {
      "cell_type": "code",
      "metadata": {
        "id": "UY1RlNJKrR2k",
        "colab_type": "code",
        "colab": {}
      },
      "source": [
        "def process_image(img_path: str):\n",
        "  \"\"\"\n",
        "  READS IMAGE AND RESIZES IT TO DESIRED \n",
        "  Take in image_path as argument, returns processed image\n",
        "  \"\"\"\n",
        "  image = tf.io.read_file(img_path)\n",
        "  image = tf.image.decode_png(image, channels=3)\n",
        "  image = tf.image.resize(image, [IMG_DIM, IMG_DIM])\n",
        "  return image"
      ],
      "execution_count": 7,
      "outputs": []
    },
    {
      "cell_type": "code",
      "metadata": {
        "id": "BiF4DMebr_Ld",
        "colab_type": "code",
        "colab": {}
      },
      "source": [
        "def image_label(img_path: str, label: str) -> Tuple:\n",
        "  image = process_image(img_path)\n",
        "  return image, label"
      ],
      "execution_count": 8,
      "outputs": []
    },
    {
      "cell_type": "code",
      "metadata": {
        "id": "Ows25ZSSsegU",
        "colab_type": "code",
        "colab": {}
      },
      "source": [
        "# Create unique labels and y labels from them\n",
        "labels = np.array([i[1] for i in data])\n",
        "unique_labels = np.unique(labels)"
      ],
      "execution_count": 9,
      "outputs": []
    },
    {
      "cell_type": "code",
      "metadata": {
        "id": "YcX495Qzyn4g",
        "colab_type": "code",
        "colab": {}
      },
      "source": [
        "boolean_labels = [label == unique_labels for label in labels] # will form y labels\n",
        "images = [i[0] for i in data] # will form X values"
      ],
      "execution_count": 10,
      "outputs": []
    },
    {
      "cell_type": "code",
      "metadata": {
        "id": "7pwM4M_Zy1Pk",
        "colab_type": "code",
        "colab": {}
      },
      "source": [
        "def create_data_batches(X, y=None, valid_data=False, test_data=False):\n",
        "  \"\"\"\n",
        "  Creates dataset from provided X and/or y values\n",
        "  Creates batches of 32 from created dataset\n",
        "  Return batchified data\n",
        "  \"\"\"\n",
        "  if test_data:\n",
        "    print(\"Creating test data batches...\")\n",
        "    data = tf.data.Dataset.from_tensor_slices((tf.constant(X)))\n",
        "    data_batch = data.map(process_images).batch(BATCH_SIZE)\n",
        "    return data_batch\n",
        "  elif valid_data:\n",
        "    print(\"Creating validation data batches\")\n",
        "    data = tf.data.Dataset.from_tensor_slices(\n",
        "        (tf.constant(X), tf.constant(y))\n",
        "    )\n",
        "    data_batch = data.map(image_label).batch(BATCH_SIZE)\n",
        "    return data_batch\n",
        "  else:\n",
        "    print(\"Creating train data batches\")\n",
        "    data = tf.data.Dataset.from_tensor_slices(\n",
        "        (tf.constant(X), tf.constant(y))\n",
        "    )\n",
        "    data = data.shuffle(buffer_size = len(X))\n",
        "    data_batch = data.map(image_label).batch(BATCH_SIZE)\n",
        "    return data_batch"
      ],
      "execution_count": 11,
      "outputs": []
    },
    {
      "cell_type": "code",
      "metadata": {
        "id": "F8YANcVM3Ex5",
        "colab_type": "code",
        "colab": {}
      },
      "source": [
        "def create_model():\n",
        "  \"\"\"\n",
        "  Creates and returns defined model\n",
        "  \"\"\"\n",
        "  model = Sequential([\n",
        "    Conv2D(FILTER_SIZE_ONE, (3, 3), activation=ACTIVATION_FUNCTION, input_shape=INPUT_SHAPE),\n",
        "    MaxPool2D(),\n",
        "    Conv2D(FILTER_SIZE_TWO, (3, 3), activation=ACTIVATION_FUNCTION),\n",
        "    MaxPool2D(),\n",
        "    Conv2D(FILTER_SIZE_THREE, (3, 3), activation=ACTIVATION_FUNCTION),\n",
        "    Conv2D(FILTER_SIZE_THREE, (3, 3), activation=ACTIVATION_FUNCTION),\n",
        "    MaxPool2D(),\n",
        "    Conv2D(FILTER_SIZE_FOUR, (3, 3), activation=ACTIVATION_FUNCTION),\n",
        "    Conv2D(FILTER_SIZE_FOUR, (3, 3), activation=ACTIVATION_FUNCTION),\n",
        "    MaxPool2D(),\n",
        "    Conv2D(FILTER_SIZE_FOUR, (3, 3), activation=ACTIVATION_FUNCTION),\n",
        "    Conv2D(FILTER_SIZE_FOUR, (3, 3), activation=ACTIVATION_FUNCTION),\n",
        "    MaxPool2D(),\n",
        "    Flatten(),\n",
        "    Dense(units=DENSE_UNITS_ONE, activation=ACTIVATION_FUNCTION),\n",
        "    Dense(units=DENSE_UNITS_ONE, activation=ACTIVATION_FUNCTION),\n",
        "    Dense(units=DENSE_UNITS_TWO, activation=ACTIVATION_FUNCTION),\n",
        "    Dense(units=DENSE_UNITS_THREE, activation=OUTPUT_ACTIVATION_FUNCTION)\n",
        "  ])\n",
        "\n",
        "  model.compile(\n",
        "      optimizer=tf.keras.optimizers.Adam(),\n",
        "      loss=tf.keras.losses.BinaryCrossentropy(),\n",
        "      metrics=\"accuracy\"\n",
        "  )  \n",
        "\n",
        "  return model"
      ],
      "execution_count": 31,
      "outputs": []
    },
    {
      "cell_type": "code",
      "metadata": {
        "id": "0GBMkA1ixWj6",
        "colab_type": "code",
        "colab": {}
      },
      "source": [
        "def return_predicted_label(prediction_probabilities):\n",
        "  \"\"\"\n",
        "  Returns label predicted by model\n",
        "  Takes in predictions array as input argument\n",
        "  \"\"\"\n",
        "  return unique_labels[np.argmax(prediction_probabilities)]"
      ],
      "execution_count": 34,
      "outputs": []
    },
    {
      "cell_type": "code",
      "metadata": {
        "id": "MdvMDK7bxW5i",
        "colab_type": "code",
        "colab": {}
      },
      "source": [
        "def debatch(dataset):\n",
        "  \"\"\"\n",
        "  Returns labels and images from batched dataset\n",
        "  \"\"\"\n",
        "  images = []\n",
        "  labels = []\n",
        "\n",
        "  with image, label in dataset.unbatch().as_numpy_iterator():\n",
        "    images.append(image)\n",
        "    labels.append(label)\n",
        "\n",
        "  return images, labels"
      ],
      "execution_count": 36,
      "outputs": []
    },
    {
      "cell_type": "code",
      "metadata": {
        "id": "f4tVL_uVxXRX",
        "colab_type": "code",
        "colab": {}
      },
      "source": [
        "def visualize_prediction(\n",
        "    predictions,\n",
        "    true_labels,\n",
        "    true_images,\n",
        "    index=1\n",
        "):\n",
        "  \"\"\"\n",
        "  Takes in predictions array, true labels, true images and index as arguments\n",
        "  Show true image, and predicted label vis a vis true label\n",
        "  \"\"\"\n",
        "  prediction, label, image = predictions[index], true_labels[index], true_images[index]\n",
        "  predicted_label = return_predicted_label(prediction) \n",
        "\n",
        "  plt.imshow(image)\n",
        "  plt.xticks([])\n",
        "  plt.yticks([])\n",
        "  plt.title(f\"Predicted Label: {predicted_label}, True Label: {label}, Probability image is correct: {np.max(prediction)*100:2.2f}\")"
      ],
      "execution_count": 40,
      "outputs": []
    },
    {
      "cell_type": "code",
      "metadata": {
        "id": "AtA0nBgFXpKJ",
        "colab_type": "code",
        "colab": {
          "base_uri": "https://localhost:8080/",
          "height": 167
        },
        "outputId": "ca0d34c3-fbf7-4663-9578-12ae953306f2"
      },
      "source": [
        "while True: pass #keeps codelab from disconnecting"
      ],
      "execution_count": 39,
      "outputs": [
        {
          "output_type": "error",
          "ename": "KeyboardInterrupt",
          "evalue": "ignored",
          "traceback": [
            "\u001b[0;31m---------------------------------------------------------------------------\u001b[0m",
            "\u001b[0;31mKeyboardInterrupt\u001b[0m                         Traceback (most recent call last)",
            "\u001b[0;32m<ipython-input-39-03c70cc89aec>\u001b[0m in \u001b[0;36m<module>\u001b[0;34m()\u001b[0m\n\u001b[0;32m----> 1\u001b[0;31m \u001b[0;32mwhile\u001b[0m \u001b[0;32mTrue\u001b[0m\u001b[0;34m:\u001b[0m \u001b[0;32mpass\u001b[0m \u001b[0;31m#keeps codelab from disconnecting\u001b[0m\u001b[0;34m\u001b[0m\u001b[0;34m\u001b[0m\u001b[0m\n\u001b[0m",
            "\u001b[0;31mKeyboardInterrupt\u001b[0m: "
          ]
        }
      ]
    },
    {
      "cell_type": "code",
      "metadata": {
        "id": "UT81RYUn2Nc-",
        "colab_type": "code",
        "colab": {}
      },
      "source": [
        ""
      ],
      "execution_count": null,
      "outputs": []
    }
  ]
}